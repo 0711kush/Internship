{
 "cells": [
  {
   "cell_type": "code",
   "execution_count": null,
   "id": "48b0d142",
   "metadata": {},
   "outputs": [],
   "source": [
    "import numpy as np\n",
    "import pandas as pd\n",
    "from  bs4 import BeautifulSoup as bs\n",
    "import requests"
   ]
  },
  {
   "cell_type": "markdown",
   "id": "e7f7b42f",
   "metadata": {},
   "source": [
    "# 1. Write a python program to display all the header tags from wikipedia.org."
   ]
  },
  {
   "cell_type": "code",
   "execution_count": null,
   "id": "afca9216",
   "metadata": {},
   "outputs": [],
   "source": [
    "page1=requests.get(\"https://en.wikipedia.org/wiki/Main_Page\")\n",
    "page1"
   ]
  },
  {
   "cell_type": "code",
   "execution_count": null,
   "id": "e68a892b",
   "metadata": {},
   "outputs": [],
   "source": [
    "wikipedia=bs(page1.content)\n",
    "wikipedia"
   ]
  },
  {
   "cell_type": "code",
   "execution_count": null,
   "id": "afe40ad0",
   "metadata": {},
   "outputs": [],
   "source": [
    "header_tags=[]\n",
    "\n",
    "for i in wikipedia.find_all(['h1','h2','h3','h4','h5','h6']):\n",
    "    header_tags.append(i.text)\n",
    "    \n",
    "    \n",
    "tags=pd.DataFrame({'Header tags':header_tags})\n",
    "tags"
   ]
  },
  {
   "cell_type": "markdown",
   "id": "f404fb11",
   "metadata": {},
   "source": [
    "# 2. Write s python program to display list of respected former presidents of India(i.e. Name , Term of office) from https://presidentofindia.nic.in/former-presidents.html and make data frame."
   ]
  },
  {
   "cell_type": "code",
   "execution_count": null,
   "id": "292f2d10",
   "metadata": {},
   "outputs": [],
   "source": [
    "page4 = requests.get('https://presidentofindia.nic.in/former-presidents.htm')\n",
    "page4"
   ]
  },
  {
   "cell_type": "code",
   "execution_count": null,
   "id": "a3fd0184",
   "metadata": {},
   "outputs": [],
   "source": [
    "indian_former_presidents = ifp = bs(page4.content)\n",
    "ifp"
   ]
  },
  {
   "cell_type": "code",
   "execution_count": null,
   "id": "f6aa0587",
   "metadata": {},
   "outputs": [],
   "source": [
    "name = ifp.find_all(\"div\", class_=\"presidentListing\")\n",
    "\n",
    "p_name = [] \n",
    "\n",
    "for i in name:\n",
    "\n",
    "    for j in i.find_all(\"h3\"):\n",
    "\n",
    "        p_name.append(j.text.split('(')[0])\n",
    "        \n",
    "office_term=[i.text.split('\\n')[2] for i in ifp.find_all('div',class_=\"presidentListing\")]\n",
    "office_term\n",
    "    \n",
    "President=pd.DataFrame({'President Name':p_name,'Tenure':office_term,})\n",
    "President"
   ]
  },
  {
   "cell_type": "markdown",
   "id": "02c63034",
   "metadata": {},
   "source": [
    "# 3.Write a python program to scrape cricket rankings from icc-cricket.com. You have to scrape:\n",
    "### a) Top 10 ODI teams in men’s cricket along with the records for matches, points and rating."
   ]
  },
  {
   "cell_type": "code",
   "execution_count": null,
   "id": "2b460d79",
   "metadata": {},
   "outputs": [],
   "source": [
    "p5=requests.get(\"https://www.icc-cricket.com/rankings/mens/team-rankings/odi\")\n",
    "p5"
   ]
  },
  {
   "cell_type": "code",
   "execution_count": null,
   "id": "c43ec78d",
   "metadata": {},
   "outputs": [],
   "source": [
    "odi=bs(p5.content)\n",
    "odi"
   ]
  },
  {
   "cell_type": "code",
   "execution_count": null,
   "id": "ae098446",
   "metadata": {},
   "outputs": [],
   "source": [
    "Name=[]\n",
    "for i in odi.find_all('span',class_=\"u-hide-phablet\"):\n",
    "    Name.append(i.text)\n",
    "\n",
    "Name=Name[0:10]   \n",
    "\n",
    "Matches=[]\n",
    "match=odi.find('td',class_=\"rankings-block__banner--matches\")\n",
    "for i in odi.find_all('td',class_=\"table-body__cell u-center-text\"):\n",
    "    Matches.append(i.text)\n",
    "    \n",
    "Matches=Matches[0:18:2]\n",
    "\n",
    "Matches.insert(0,match.text)\n",
    "\n",
    "Points=[]\n",
    "point=odi.find('td',class_=\"rankings-block__banner--points\")\n",
    "for i in odi.find_all('td',class_=\"table-body__cell u-center-text\"):\n",
    "    Points.append(i.text)\n",
    "    \n",
    "Points=Points[1:19:2]\n",
    "\n",
    "Points.insert(0,point.text)\n",
    "\n",
    "Ratings=[]\n",
    "rat=odi.find('td',class_=\"rankings-block__banner--rating u-text-right\")\n",
    "for i in odi.find_all('td',class_=\"table-body__cell u-text-right rating\"):\n",
    "    Ratings.append(i.text)\n",
    "    \n",
    "Ratings=Ratings[0:9]\n",
    "\n",
    "Ratings.insert(0,rat.text.split()[0])\n",
    "\n",
    "\n",
    "ODI_Team=pd.DataFrame({'Name':Name,'Matches':Matches,'Points':Points,'Ratings':Ratings})\n",
    "ODI_Team.index = ODI_Team.index + 1\n",
    "ODI_Team"
   ]
  },
  {
   "cell_type": "markdown",
   "id": "f9d2dab3",
   "metadata": {},
   "source": [
    "### b) Top 10 ODI Batsmen along with the records of their team and rating."
   ]
  },
  {
   "cell_type": "code",
   "execution_count": null,
   "id": "e9c4dcc2",
   "metadata": {},
   "outputs": [],
   "source": [
    "p6=requests.get(\"https://www.icc-cricket.com/rankings/mens/player-rankings/odi/batting\")\n",
    "p6"
   ]
  },
  {
   "cell_type": "code",
   "execution_count": null,
   "id": "64c690b0",
   "metadata": {},
   "outputs": [],
   "source": [
    "odibat=bs(p6.content)\n",
    "odibat"
   ]
  },
  {
   "cell_type": "code",
   "execution_count": null,
   "id": "7811eccc",
   "metadata": {},
   "outputs": [],
   "source": [
    "Name=[]\n",
    "top=odibat.find('div',class_=\"rankings-block__banner--name-large\")\n",
    "name = odibat.find_all('td',class_=\"table-body__cell rankings-table__name name\") \n",
    "\n",
    "for i in name:\n",
    "\n",
    "    for j in i.find_all(\"a\"):\n",
    "        Name.append(j.text)\n",
    "Name=Name[0:9]\n",
    "Name.insert(0,top.text)\n",
    "\n",
    "Team=[]\n",
    "team=odibat.find('div',class_=\"rankings-block__banner--nationality\")\n",
    "for i in odibat.find_all('span',class_=\"table-body__logo-text\"):\n",
    "    Team.append(i.text)\n",
    "    \n",
    "Team=Team[0:9]\n",
    "Team.insert(0,team.text.split()[0])\n",
    "\n",
    "Rating=[]\n",
    "rating=odibat.find('div',class_=\"rankings-block__banner--rating\")\n",
    "for i in odibat.find_all('td',class_=\"table-body__cell rating\"):\n",
    "    Rating.append(i.text)\n",
    "    \n",
    "Rating=Rating[0:9]\n",
    "Rating.insert(0,rating.text)\n",
    "\n",
    "\n",
    "ODI_Bat=pd.DataFrame({'Name':Name,'Team':Team,'Rating':Rating})\n",
    "ODI_Bat.index = ODI_Bat.index + 1\n",
    "ODI_Bat"
   ]
  },
  {
   "cell_type": "markdown",
   "id": "2e625193",
   "metadata": {},
   "source": [
    "### c) Top 10 ODI bowlers along with the records of their team and rating. "
   ]
  },
  {
   "cell_type": "code",
   "execution_count": null,
   "id": "eec6432e",
   "metadata": {},
   "outputs": [],
   "source": [
    "p6=requests.get(\"https://www.icc-cricket.com/rankings/mens/player-rankings/odi/bowling\")\n",
    "p6"
   ]
  },
  {
   "cell_type": "code",
   "execution_count": null,
   "id": "03e45429",
   "metadata": {},
   "outputs": [],
   "source": [
    "odibow=bs(p6.content)\n",
    "odibow"
   ]
  },
  {
   "cell_type": "code",
   "execution_count": null,
   "id": "a6026919",
   "metadata": {},
   "outputs": [],
   "source": [
    "Name=[]\n",
    "top=odibow.find('div',class_=\"rankings-block__banner--name-large\")\n",
    "name = odibow.find_all('td',class_=\"table-body__cell rankings-table__name name\") \n",
    "\n",
    "for i in name:\n",
    "\n",
    "    for j in i.find_all(\"a\"):\n",
    "        Name.append(j.text)\n",
    "Name=Name[0:9]\n",
    "Name.insert(0,top.text)\n",
    "\n",
    "Team=[]\n",
    "team=odibow.find('div',class_=\"rankings-block__banner--nationality\")\n",
    "for i in odibow.find_all('span',class_=\"table-body__logo-text\"):\n",
    "    Team.append(i.text)\n",
    "    \n",
    "Team=Team[0:9]\n",
    "Team.insert(0,team.text.split()[0])\n",
    "\n",
    "Rating=[]\n",
    "rating=odibow.find('div',class_=\"rankings-block__banner--rating\")\n",
    "for i in odibow.find_all('td',class_=\"table-body__cell rating\"):\n",
    "    Rating.append(i.text)\n",
    "    \n",
    "Rating=Rating[0:9]\n",
    "Rating.insert(0,rating.text)\n",
    "\n",
    "\n",
    "ODI_Bow=pd.DataFrame({'Name':Name,'Team':Team,'Rating':Rating})\n",
    "ODI_Bow.index = ODI_Bow.index + 1\n",
    "ODI_Bow"
   ]
  },
  {
   "cell_type": "markdown",
   "id": "975eeecd",
   "metadata": {},
   "source": [
    "# 4. Write a python program to scrape cricket rankings from icc-cricket.com. You have to scrape:\n",
    "### a) Top 10 ODI teams in women’s cricket along with the records for matches, points and rating."
   ]
  },
  {
   "cell_type": "code",
   "execution_count": null,
   "id": "2f9dd4f4",
   "metadata": {},
   "outputs": [],
   "source": [
    "p7=requests.get(\"https://www.icc-cricket.com/rankings/womens/team-rankings/odi\")\n",
    "p7"
   ]
  },
  {
   "cell_type": "code",
   "execution_count": null,
   "id": "49d35326",
   "metadata": {},
   "outputs": [],
   "source": [
    "odiw=bs(p7.content)\n",
    "odiw"
   ]
  },
  {
   "cell_type": "code",
   "execution_count": null,
   "id": "876b1efb",
   "metadata": {},
   "outputs": [],
   "source": [
    "Name=[]\n",
    "for i in odiw.find_all('span',class_=\"u-hide-phablet\"):\n",
    "    Name.append(i.text)\n",
    "\n",
    "Name=Name[0:10]   \n",
    "\n",
    "Matches=[]\n",
    "match=odiw.find('td',class_=\"rankings-block__banner--matches\")\n",
    "for i in odiw.find_all('td',class_=\"table-body__cell u-center-text\"):\n",
    "    Matches.append(i.text)\n",
    "    \n",
    "Matches=Matches[0:18:2]\n",
    "\n",
    "Matches.insert(0,match.text)\n",
    "\n",
    "Points=[]\n",
    "point=odiw.find('td',class_=\"rankings-block__banner--points\")\n",
    "for i in odiw.find_all('td',class_=\"table-body__cell u-center-text\"):\n",
    "    Points.append(i.text)\n",
    "    \n",
    "Points=Points[1:19:2]\n",
    "\n",
    "Points.insert(0,point.text)\n",
    "\n",
    "Ratings=[]\n",
    "rat=odiw.find('td',class_=\"rankings-block__banner--rating u-text-right\")\n",
    "for i in odiw.find_all('td',class_=\"table-body__cell u-text-right rating\"):\n",
    "    Ratings.append(i.text)\n",
    "    \n",
    "Ratings=Ratings[0:9]\n",
    "\n",
    "Ratings.insert(0,rat.text.split()[0])\n",
    "ODI_TeamW=pd.DataFrame({'Name':Name,'Matches':Matches,'Points':Points,'Ratings':Ratings})\n",
    "ODI_TeamW.index = ODI_TeamW.index + 1\n",
    "ODI_TeamW"
   ]
  },
  {
   "cell_type": "markdown",
   "id": "8e79ce2c",
   "metadata": {},
   "source": [
    "### b) Top 10 women’s ODI Batting players along with the records of their team and rating."
   ]
  },
  {
   "cell_type": "code",
   "execution_count": null,
   "id": "8f37e5cc",
   "metadata": {},
   "outputs": [],
   "source": [
    "p8=requests.get(\"https://www.icc-cricket.com/rankings/womens/player-rankings/odi/batting\")\n",
    "p8"
   ]
  },
  {
   "cell_type": "code",
   "execution_count": null,
   "id": "c4405cd0",
   "metadata": {},
   "outputs": [],
   "source": [
    "odibatw=bs(p8.content)\n",
    "odibatw"
   ]
  },
  {
   "cell_type": "code",
   "execution_count": null,
   "id": "c5faabe5",
   "metadata": {},
   "outputs": [],
   "source": [
    "Name_b=[]\n",
    "top=odibatw.find('div',class_=\"rankings-block__banner--name-large\")\n",
    "name = odibatw.find_all('td',class_=\"table-body__cell rankings-table__name name\") \n",
    "\n",
    "for i in name:\n",
    "\n",
    "    for j in i.find_all(\"a\"):\n",
    "        Name_b.append(j.text)\n",
    "Name_b=Name_b[0:9]\n",
    "Name_b.insert(0,top.text)\n",
    "\n",
    "Team_b=[]\n",
    "team=odibatw.find('div',class_=\"rankings-block__banner--nationality\")\n",
    "for i in odibatw.find_all('span',class_=\"table-body__logo-text\"):\n",
    "    Team_b.append(i.text)\n",
    "    \n",
    "Team_b=Team_b[0:9]\n",
    "Team_b.insert(0,team.text.split()[0])\n",
    "\n",
    "Rating_b=[]\n",
    "rating=odibatw.find('div',class_=\"rankings-block__banner--rating\")\n",
    "for i in odibatw.find_all('td',class_=\"table-body__cell rating\"):\n",
    "    Rating_b.append(i.text)\n",
    "    \n",
    "Rating_b=Rating[0:9]\n",
    "Rating_b.insert(0,rating.text)\n",
    "ODI_BatW=pd.DataFrame({'Name':Name_b,'Team':Team_b,'Rating':Rating_b})\n",
    "ODI_BatW.index = ODI_BatW.index + 1\n",
    "ODI_BatW"
   ]
  },
  {
   "cell_type": "markdown",
   "id": "910e379b",
   "metadata": {},
   "source": [
    "### c) Top 10 women’s ODI all-rounder along with the records of their team and rating."
   ]
  },
  {
   "cell_type": "code",
   "execution_count": null,
   "id": "1896adfb",
   "metadata": {},
   "outputs": [],
   "source": [
    "p9=requests.get(\"https://www.icc-cricket.com/rankings/womens/player-rankings/odi/all-rounder\")\n",
    "p9"
   ]
  },
  {
   "cell_type": "code",
   "execution_count": null,
   "id": "5f5b1210",
   "metadata": {},
   "outputs": [],
   "source": [
    "odiround=bs(p9.content)\n",
    "odiround"
   ]
  },
  {
   "cell_type": "code",
   "execution_count": null,
   "id": "26e80396",
   "metadata": {},
   "outputs": [],
   "source": [
    "Name_r=[]\n",
    "top=odiround.find('div',class_=\"rankings-block__banner--name-large\")\n",
    "name = odiround.find_all('td',class_=\"table-body__cell rankings-table__name name\") \n",
    "\n",
    "for i in name:\n",
    "\n",
    "    for j in i.find_all(\"a\"):\n",
    "        Name_r.append(j.text)\n",
    "Name_r=Name_r[0:9]\n",
    "Name_r.insert(0,top.text)\n",
    "\n",
    "Team_r=[]\n",
    "team=odiround.find('div',class_=\"rankings-block__banner--nationality\")\n",
    "for i in odiround.find_all('span',class_=\"table-body__logo-text\"):\n",
    "    Team_r.append(i.text)\n",
    "    \n",
    "Team_r=Team_r[0:9]\n",
    "Team_r.insert(0,team.text.split()[0])\n",
    "\n",
    "Rating_r=[]\n",
    "rating=odiround.find('div',class_=\"rankings-block__banner--rating\")\n",
    "for i in odiround.find_all('td',class_=\"table-body__cell rating\"):\n",
    "    Rating_r.append(i.text)\n",
    "    \n",
    "Rating_r=Rating_r[0:9]\n",
    "Rating_r.insert(0,rating.text)\n",
    "ODI_Round=pd.DataFrame({'Name':Name_r,'Team':Team_r,'Rating':Rating_r})\n",
    "ODI_Round.index = ODI_Round.index + 1\n",
    "ODI_Round"
   ]
  },
  {
   "cell_type": "markdown",
   "id": "43af09b3",
   "metadata": {},
   "source": [
    "# 5. Write a python program to scrape mentioned news details from https://www.cnbc.com/world/?region=world :\n",
    "1. Headline\n",
    "2. Time\n",
    "3. News Link"
   ]
  },
  {
   "cell_type": "code",
   "execution_count": null,
   "id": "73ff3f63",
   "metadata": {},
   "outputs": [],
   "source": [
    "p10=requests.get(\"https://www.cnbc.com/world/?region=world\")\n",
    "p10"
   ]
  },
  {
   "cell_type": "code",
   "execution_count": null,
   "id": "435395d8",
   "metadata": {},
   "outputs": [],
   "source": [
    "news_link = nl =bs(p10.content)\n",
    "nl"
   ]
  },
  {
   "cell_type": "code",
   "execution_count": null,
   "id": "223d61a6",
   "metadata": {},
   "outputs": [],
   "source": [
    "headline=[]\n",
    "time=[]\n",
    "link=[]\n",
    "\n",
    "for i in nl.find_all('time',class_=\"LatestNews-timestamp\"):\n",
    "    time.append(i.text)\n",
    "\n",
    "for i in nl.find_all('a',class_=\"LatestNews-headline\"):\n",
    "    headline.append(i.text)\n",
    "\n",
    "for i in nl.find_all('a',class_=\"LatestNews-headline\"):\n",
    "    link.append(i.get('href'))\n",
    "\n",
    "Article=pd.DataFrame({'Headline':headline,'Article URL':link,'Time':time})\n",
    "Article"
   ]
  },
  {
   "cell_type": "markdown",
   "id": "170abbd2",
   "metadata": {},
   "source": [
    "# 6.Write a python program to scrape the details of most downloaded articles from AI in last 90 days.\n",
    "https://www.journals.elsevier.com/artificial-intelligence/most-downloaded-articles\n",
    "- Scrape below mentioned details :\n",
    "    -  Paper Title\n",
    "    -  Authors\n",
    "    -  Published Date\n",
    "    -  Paper URL"
   ]
  },
  {
   "cell_type": "code",
   "execution_count": null,
   "id": "8c8d6dc0",
   "metadata": {},
   "outputs": [],
   "source": [
    "p11=requests.get(\"https://www.journals.elsevier.com/artificial-intelligence/most-downloaded-articles\")\n",
    "p11"
   ]
  },
  {
   "cell_type": "code",
   "execution_count": null,
   "id": "86577fb7",
   "metadata": {},
   "outputs": [],
   "source": [
    "ai=bs(p11.content)\n",
    "ai"
   ]
  },
  {
   "cell_type": "code",
   "execution_count": null,
   "id": "349a6dde",
   "metadata": {},
   "outputs": [],
   "source": [
    "name = ai.find_all(\"a\", class_=\"sc-5smygv-0 nrDZj\")\n",
    "\n",
    "article_title = []\n",
    "for i in soup.find_all(\"a\", class_=\"anchor article-content-title u-margin-xs-top u-margin-s-bottom\"):\n",
    "    article_title.append(i.text)\n",
    "\n",
    "Authors=[]\n",
    "for i in soup.find_all('span',class_=\"text given-name\"):\n",
    "    Authors.append(i.text)\n",
    "    \n",
    "Year=[]\n",
    "for i in soup.find_all('div',class_=\"text-xs\"):\n",
    "    Year.append(i.text)\n",
    "    \n",
    "article_url=[]\n",
    "for i in soup.find_all('a',class_=\"anchor article-content-title u-margin-xs-top u-margin-s-bottom\"):\n",
    "    article_url.append(i.get('href'))\n",
    "    \n",
    "Article=pd.DataFrame({'Article Title':article_title,'Authors':Authors,'Year of Release':Year,'Article URL':article_url})\n",
    "print(Article)"
   ]
  },
  {
   "cell_type": "markdown",
   "id": "c0169abe",
   "metadata": {},
   "source": [
    "# 7) Write a python program to scrape mentioned details from dineout.co.in :\n",
    "- Restaurant name\n",
    "- Cuisine\n",
    "- Location\n",
    "- Ratings\n",
    "- Image URL"
   ]
  },
  {
   "cell_type": "code",
   "execution_count": null,
   "id": "03322432",
   "metadata": {},
   "outputs": [],
   "source": [
    "p12=requests.get(\"https://www.dineout.co.in/delhi-restaurants/buffet-special\")\n",
    "p12"
   ]
  },
  {
   "cell_type": "code",
   "execution_count": null,
   "id": "cc1dcaf0",
   "metadata": {},
   "outputs": [],
   "source": [
    "dine=bs(p12.content)\n",
    "dine"
   ]
  },
  {
   "cell_type": "code",
   "execution_count": null,
   "id": "b515a524",
   "metadata": {
    "scrolled": true
   },
   "outputs": [],
   "source": [
    "rest_name=[]\n",
    "for i in dine.find_all('a',class_=\"restnt-name ellipsis\"):\n",
    "    rest_name.append(i.text)\n",
    "        \n",
    "cu=dine.find_all('span',class_=\"double-line-ellipsis\")\n",
    "cuisine=[]\n",
    "for i in cu:\n",
    "    cuisine.append(i.text.split(\"|\")[1])\n",
    "\n",
    "location=[]\n",
    "for i in dine.find_all('div',class_=\"restnt-loc ellipsis\"):\n",
    "    location.append(i.text)\n",
    "    \n",
    "ratings=[]\n",
    "for i in dine.find_all('div',class_=\"restnt-rating rating-4\"):\n",
    "    ratings.append(i.text)\n",
    "    \n",
    "image_url=[]\n",
    "for i in dine.find_all('img',class_=\"no-img\"):\n",
    "    image_url.append(i.get('data-src'))\n",
    "\n",
    "    \n",
    "rest=pd.DataFrame({'Name':rest_name,'Cuisine':cuisine,'Location':location,'Rating':ratings,'Image URL':image_url})\n",
    "rest"
   ]
  }
 ],
 "metadata": {
  "kernelspec": {
   "display_name": "Python 3 (ipykernel)",
   "language": "python",
   "name": "python3"
  },
  "language_info": {
   "codemirror_mode": {
    "name": "ipython",
    "version": 3
   },
   "file_extension": ".py",
   "mimetype": "text/x-python",
   "name": "python",
   "nbconvert_exporter": "python",
   "pygments_lexer": "ipython3",
   "version": "3.9.13"
  }
 },
 "nbformat": 4,
 "nbformat_minor": 5
}
