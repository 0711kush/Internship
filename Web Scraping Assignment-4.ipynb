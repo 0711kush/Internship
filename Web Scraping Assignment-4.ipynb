{
 "cells": [
  {
   "cell_type": "markdown",
   "id": "67ccb79f",
   "metadata": {},
   "source": [
    "# Web Scraping Assignment-4"
   ]
  },
  {
   "cell_type": "code",
   "execution_count": null,
   "id": "f15829e0",
   "metadata": {},
   "outputs": [],
   "source": [
    "import warnings\n",
    "warnings.filterwarnings('ignore')"
   ]
  },
  {
   "cell_type": "code",
   "execution_count": null,
   "id": "f5aff7b8",
   "metadata": {},
   "outputs": [],
   "source": [
    "!pip install selenium"
   ]
  },
  {
   "cell_type": "code",
   "execution_count": null,
   "id": "36bb3634",
   "metadata": {},
   "outputs": [],
   "source": [
    "# Importing Required Libraries\n",
    "\n",
    "import selenium\n",
    "import pandas as pd\n",
    "import numpy as np\n",
    "from selenium import webdriver\n",
    "from selenium.common.exceptions import StaleElementReferenceException, NoSuchElementException\n",
    "from selenium.webdriver.common.by import By\n",
    "import time"
   ]
  },
  {
   "cell_type": "code",
   "execution_count": null,
   "id": "37b45bd3",
   "metadata": {},
   "outputs": [],
   "source": [
    "from selenium.common.exceptions import ElementNotInteractableException"
   ]
  },
  {
   "cell_type": "code",
   "execution_count": null,
   "id": "e6450055",
   "metadata": {},
   "outputs": [],
   "source": [
    "# First connect to the driver\n",
    "\n",
    "driver=webdriver.Chrome(r\"C:\\Users\\User\\Downloads\\chromedriver_win32\\chromedriver.exe\")"
   ]
  },
  {
   "cell_type": "code",
   "execution_count": null,
   "id": "1edc9af2",
   "metadata": {},
   "outputs": [],
   "source": [
    "# To maximize the window of the web browser\n",
    "\n",
    "driver.maximize_window()"
   ]
  },
  {
   "cell_type": "markdown",
   "id": "fafa590f",
   "metadata": {},
   "source": [
    "1. Scrape the details of most viewed videos on YouTube from Wikipedia.\n",
    "Url = https://en.wikipedia.org/wiki/List_of_most-viewed_YouTube_videos\n",
    "You need to find following details:\n",
    "A) Rank\n",
    "B) Name\n",
    "C) Artist\n",
    "D) Upload date\n",
    "E) Views"
   ]
  },
  {
   "cell_type": "code",
   "execution_count": null,
   "id": "85650755",
   "metadata": {},
   "outputs": [],
   "source": [
    "# Opening the youtube page on automated chrome browser\n",
    "\n",
    "driver.get(\" https://en.wikipedia.org/wiki/List_of_most-viewed_YouTube_videos\")"
   ]
  },
  {
   "cell_type": "code",
   "execution_count": null,
   "id": "75490abe",
   "metadata": {},
   "outputs": [],
   "source": [
    "upload_date=[]"
   ]
  },
  {
   "cell_type": "code",
   "execution_count": null,
   "id": "b507afac",
   "metadata": {},
   "outputs": [],
   "source": [
    "    date_tag=driver.find_elements(By.XPATH,'//td[@align=\"right\"]')\n",
    "    for i in date_tag:\n",
    "        upload_date.append(i.text) "
   ]
  },
  {
   "cell_type": "code",
   "execution_count": null,
   "id": "7430c628",
   "metadata": {},
   "outputs": [],
   "source": [
    "names=[\"Baby Shark Dance\",\"Despacito\",\"Johny Johny Yes Papa\",\"Shape of You\",\"Bath Song\",\"See You Again\",\n",
    "       \"Phonics Song with Two Words\",\"Uptown Funk\",\"Learning Colors – Colorful Eggs on a Farm\",\"Gangnam Style\"]\n",
    "names"
   ]
  },
  {
   "cell_type": "code",
   "execution_count": null,
   "id": "1de8bda8",
   "metadata": {},
   "outputs": [],
   "source": [
    "upload_dates=upload_date[0:10]\n",
    "upload_dates"
   ]
  },
  {
   "cell_type": "code",
   "execution_count": null,
   "id": "bdd2dfd2",
   "metadata": {},
   "outputs": [],
   "source": [
    "rank=list(range(1,11))\n",
    "rank"
   ]
  },
  {
   "cell_type": "code",
   "execution_count": null,
   "id": "8d48f4a4",
   "metadata": {},
   "outputs": [],
   "source": [
    "artist=['Pinkfong','Luis Fonsi','LooLoo','Ed Sheeran','Cocomelon','Wiz Khalifa','ChuChu','Mark Ronson','Miroshka TV','Psy']\n",
    "artist"
   ]
  },
  {
   "cell_type": "code",
   "execution_count": null,
   "id": "ccbd33e1",
   "metadata": {},
   "outputs": [],
   "source": [
    "views=['11.58','7.99','6.50','5.83','5.68','5.68','4.96','4.73','4.69','4.58']\n",
    "views"
   ]
  },
  {
   "cell_type": "code",
   "execution_count": null,
   "id": "3c786737",
   "metadata": {},
   "outputs": [],
   "source": [
    "print(len(rank),len(names),len(artist),len(upload_dates),len(views))"
   ]
  },
  {
   "cell_type": "code",
   "execution_count": null,
   "id": "01b7e621",
   "metadata": {},
   "outputs": [],
   "source": [
    "most_viewed_videos=pd.DataFrame({'Rank':rank,'Name':names,'Artist':artist,'Upload date':upload_date,'Views':views})\n"
   ]
  },
  {
   "cell_type": "markdown",
   "id": "49298f16",
   "metadata": {},
   "source": [
    "2. Scrape the details team India’s international fixtures from bcci.tv.\n",
    "Url = https://www.bcci.tv/.\n",
    "You need to find following details:\n",
    "A) Match title (I.e. 1\n",
    "st ODI)\n",
    "B) Series\n",
    "C) Place\n",
    "D) Date\n",
    "E) Time"
   ]
  },
  {
   "cell_type": "code",
   "execution_count": null,
   "id": "c8977877",
   "metadata": {},
   "outputs": [],
   "source": [
    "# Opening the bcci page on automated chrome browser\n",
    "\n",
    "driver.get(\" https://www.bcci.tv/\")"
   ]
  },
  {
   "cell_type": "code",
   "execution_count": null,
   "id": "6badde15",
   "metadata": {},
   "outputs": [],
   "source": [
    "international=driver.find_element(By.CLASS_NAME,\"nav-link\")\n",
    "international.click()"
   ]
  },
  {
   "cell_type": "code",
   "execution_count": null,
   "id": "fe22ab51",
   "metadata": {},
   "outputs": [],
   "source": [
    "Matches=[]\n",
    "Series_of_match=[]\n",
    "Place_m=[]\n",
    "Date_m=[]\n",
    "Time_m=[]"
   ]
  },
  {
   "cell_type": "code",
   "execution_count": null,
   "id": "315b210c",
   "metadata": {},
   "outputs": [],
   "source": [
    "    match_tag=driver.find_elements(By.XPATH,'//span[@class=\"matchOrderText ng-binding ng-scope\"]')\n",
    "    for i in match_tag:\n",
    "        Matches.append(i.text)\n",
    "        \n",
    "    series_tag=driver.find_elements(By.XPATH,'//span[@class=\"ng-binding\"]')   \n",
    "    for j in series_tag:\n",
    "        Series_of_match.append(j.text)   \n",
    "        \n",
    "    place_tag=driver.find_elements(By.XPATH,'//span[@class=\"ng-binding ng-scope\"]')   \n",
    "    for l in place_tag:\n",
    "        Place_m.append(l.text)\n",
    "        \n",
    "    date_tag=driver.find_elements(By.XPATH,'//h5[@class=\"ng-binding\"]')   \n",
    "    for m in date_tag:\n",
    "        Date_m.append(m.text)\n",
    "        \n",
    "    time_tag=driver.find_elements(By.XPATH,'//h5[@class=\"text-right ng-binding\"]')   \n",
    "    for n in time_tag:\n",
    "        Time_m.append(n.text) "
   ]
  },
  {
   "cell_type": "code",
   "execution_count": null,
   "id": "69dc94b0",
   "metadata": {},
   "outputs": [],
   "source": [
    "Matches"
   ]
  },
  {
   "cell_type": "code",
   "execution_count": null,
   "id": "151b0434",
   "metadata": {},
   "outputs": [],
   "source": [
    "Series_of_match"
   ]
  },
  {
   "cell_type": "code",
   "execution_count": null,
   "id": "98b14181",
   "metadata": {},
   "outputs": [],
   "source": [
    "Place_m"
   ]
  },
  {
   "cell_type": "code",
   "execution_count": null,
   "id": "18f1f07f",
   "metadata": {},
   "outputs": [],
   "source": [
    "Date_m"
   ]
  },
  {
   "cell_type": "code",
   "execution_count": null,
   "id": "91aaf9b6",
   "metadata": {},
   "outputs": [],
   "source": [
    "Time_m"
   ]
  },
  {
   "cell_type": "code",
   "execution_count": null,
   "id": "2edeb043",
   "metadata": {},
   "outputs": [],
   "source": [
    "print(len(Matches),len(Series_of_match),len(Date_m),len(Place_m),len(Time_m))"
   ]
  },
  {
   "cell_type": "code",
   "execution_count": null,
   "id": "765c9d51",
   "metadata": {},
   "outputs": [],
   "source": [
    "Match_data=pd.DataFrame({'Match title':Matches,'Series':Series_of_match,'Place':Place_m,'Date':Date_m,'Time':Time_m})\n",
    "Match_data"
   ]
  },
  {
   "cell_type": "markdown",
   "id": "be7cee9a",
   "metadata": {},
   "source": [
    "3. Scrape the details of State-wise GDP of India from statisticstime.com.\n",
    "Url = http://statisticstimes.com/\n",
    "You have to find following details:\n",
    "A) Rank\n",
    "B) State\n",
    "C) GSDP(18-19)\n",
    "D) GSDP(17-18)\n",
    "E) Share(2017)\n",
    "F) GDP($ billion)"
   ]
  },
  {
   "cell_type": "code",
   "execution_count": null,
   "id": "1855139b",
   "metadata": {},
   "outputs": [],
   "source": [
    "# First connect to the driver\n",
    "\n",
    "driver=webdriver.Chrome(r\"C:\\Users\\User\\Downloads\\chromedriver_win32\\chromedriver.exe\")"
   ]
  },
  {
   "cell_type": "code",
   "execution_count": null,
   "id": "c7875c54",
   "metadata": {},
   "outputs": [],
   "source": [
    "# Opening the GDP page on automated chrome browser\n",
    "\n",
    "driver.get(\" http://statisticstimes.com/\")"
   ]
  },
  {
   "cell_type": "code",
   "execution_count": null,
   "id": "f103873a",
   "metadata": {},
   "outputs": [],
   "source": [
    "economy=driver.find_element(By.CLASS_NAME,\"dropdown-content\")\n",
    "economy.click()"
   ]
  },
  {
   "cell_type": "code",
   "execution_count": null,
   "id": "dcacae38",
   "metadata": {},
   "outputs": [],
   "source": [
    "# Handling Exception\n",
    "\n",
    "time.sleep(5)\n",
    "try:\n",
    "    economy=driver.find_element(By.CLASS_NAME,\"dropdown-content\")\n",
    "    economy.click()\n",
    "    \n",
    "except ElementNotInteractableException as e:\n",
    "    print(\"Exception Raised : \",e)\n",
    "    economy=driver.find_element(By.CLASS_NAME,\"dropdown-content\")\n",
    "    economy.click()"
   ]
  },
  {
   "cell_type": "code",
   "execution_count": null,
   "id": "8ada63c1",
   "metadata": {},
   "outputs": [],
   "source": [
    "driver.close()"
   ]
  },
  {
   "cell_type": "code",
   "execution_count": null,
   "id": "d8cb758b",
   "metadata": {},
   "outputs": [],
   "source": [
    "india_gdp=search=driver.find_element(By.CLASS_NAME,\"ec\")\n",
    "india_gdp.click()"
   ]
  },
  {
   "cell_type": "code",
   "execution_count": null,
   "id": "dd3aaa8d",
   "metadata": {},
   "outputs": [],
   "source": [
    "Rank=[]\n",
    "State=[]\n",
    "Gsdp_2=[]"
   ]
  },
  {
   "cell_type": "code",
   "execution_count": null,
   "id": "0372abbd",
   "metadata": {},
   "outputs": [],
   "source": [
    "    Rank_tag=driver.find_elements(By.XPATH,'//td[@class=\"data1\"]')\n",
    "    for i in Rank_tag:\n",
    "        Rank.append(i.text)\n",
    "        \n",
    "    State_tag=driver.find_elements(By.XPATH,'//td[@class=\"name\"]')   \n",
    "    for j in State_tag:\n",
    "        State.append(j.text)   \n",
    "        \n",
    "    Gdp2_tag=driver.find_elements(By.XPATH,'//td[@class=\"data sorting_1\"]')   \n",
    "    for m in Gdp2_tag:\n",
    "        Gsdp_2.append(m.text)"
   ]
  },
  {
   "cell_type": "code",
   "execution_count": null,
   "id": "0bede6a7",
   "metadata": {},
   "outputs": [],
   "source": [
    "Ranks=Rank[0:10]\n",
    "Ranks"
   ]
  },
  {
   "cell_type": "code",
   "execution_count": null,
   "id": "ad34a507",
   "metadata": {},
   "outputs": [],
   "source": [
    "States=State[0:10]\n",
    "States"
   ]
  },
  {
   "cell_type": "code",
   "execution_count": null,
   "id": "326341b5",
   "metadata": {},
   "outputs": [],
   "source": [
    "Gsdps_2=Gsdp_2[0:10]\n",
    "Gsdps_2"
   ]
  },
  {
   "cell_type": "code",
   "execution_count": null,
   "id": "d7aea86e",
   "metadata": {},
   "outputs": [],
   "source": [
    "Gsdp_1=['-','1,845,853','1,687,818','-','1,631,977','1,253,832','1,020,989','972,782','969,604','906,672']\n",
    "Gsdp_1"
   ]
  },
  {
   "cell_type": "code",
   "execution_count": null,
   "id": "fcafdd8b",
   "metadata": {},
   "outputs": [],
   "source": [
    "Share=['13.94%','8.63%','8.39%','7.96%','7.91%','5.77%','4.99%','4.57%','4.56%','4.29%']\n",
    "Share"
   ]
  },
  {
   "cell_type": "code",
   "execution_count": null,
   "id": "5a852fdc",
   "metadata": {},
   "outputs": [],
   "source": [
    "GDP=['399.921','247.629','240.726','228.290','226.806','165.556','143.179','131.083','130.791','122.977']\n",
    "GDP"
   ]
  },
  {
   "cell_type": "code",
   "execution_count": null,
   "id": "adcd0080",
   "metadata": {},
   "outputs": [],
   "source": [
    "print(len(Ranks),len(States),len(Gsdps_2),len(Share),len(GDP))"
   ]
  },
  {
   "cell_type": "code",
   "execution_count": null,
   "id": "de67f27a",
   "metadata": {},
   "outputs": [],
   "source": [
    "State_GDP=pd.DataFrame({'Rank':Ranks,'State':States,'GSDP1':Gsdp_1,'GSDP2':Gsdps_2,'Share':Share,'GDP':GDP})\n",
    "State_GDP"
   ]
  },
  {
   "cell_type": "markdown",
   "id": "c6f15c1d",
   "metadata": {},
   "source": [
    "4. Scrape the details of trending repositories on Github.com.\n",
    "Url = https://github.com/\n",
    "You have to find the following details:\n",
    "A) Repository title\n",
    "B) Repository description\n",
    "C) Contributors count\n",
    "D) Language used"
   ]
  },
  {
   "cell_type": "code",
   "execution_count": null,
   "id": "317df286",
   "metadata": {},
   "outputs": [],
   "source": [
    "# Opening the Github page on automated chrome browser\n",
    "\n",
    "driver.get(\"https://github.com/\")"
   ]
  },
  {
   "cell_type": "code",
   "execution_count": null,
   "id": "d8dfc22f",
   "metadata": {},
   "outputs": [],
   "source": [
    "open_source=driver.find_element(By.CLASS_NAME,\"HeaderMenu-link border-0 width-full width-lg-auto px-0 px-lg-2 py-3 py-lg-2 no-wrap d-flex flex-items-center flex-justify-between js-details-target\")\n",
    "open_source.click()"
   ]
  },
  {
   "cell_type": "code",
   "execution_count": null,
   "id": "b3532d9b",
   "metadata": {},
   "outputs": [],
   "source": [
    "# Handling Exception\n",
    "\n",
    "time.sleep(5)\n",
    "try:\n",
    "    open_source=driver.find_element(By.CLASS_NAME,\"HeaderMenu-link border-0 width-full width-lg-auto px-0 px-lg-2 py-3 py-lg-2 no-wrap d-flex flex-items-center flex-justify-between js-details-target\")\n",
    "    open_source.click()\n",
    "    \n",
    "except NoSuchElementException as e:\n",
    "    print(\"Exception Raised : \",e)\n",
    "    open_source=driver.find_element(By.CLASS_NAME,\"HeaderMenu-link border-0 width-full width-lg-auto px-0 px-lg-2 py-3 py-lg-2 no-wrap d-flex flex-items-center flex-justify-between js-details-target\")\n",
    "    open_source.click()"
   ]
  },
  {
   "cell_type": "code",
   "execution_count": null,
   "id": "595d1997",
   "metadata": {},
   "outputs": [],
   "source": [
    "driver.close()"
   ]
  },
  {
   "cell_type": "code",
   "execution_count": null,
   "id": "38cc4ee1",
   "metadata": {},
   "outputs": [],
   "source": [
    "trending=driver.find_element(By.CLASS_NAME,\"HeaderMenu-dropdown-link lh-condensed d-block no-underline position-relative py-2 Link--secondary\")\n",
    "trending.click()"
   ]
  },
  {
   "cell_type": "code",
   "execution_count": null,
   "id": "190c748e",
   "metadata": {},
   "outputs": [],
   "source": [
    "# Handling Exception\n",
    "\n",
    "time.sleep(5)\n",
    "try:\n",
    "    trending=driver.find_element(By.CLASS_NAME,\"HeaderMenu-dropdown-link lh-condensed d-block no-underline position-relative py-2 Link--secondary\")\n",
    "    trending.click()\n",
    "    \n",
    "except NoSuchElementException as e:\n",
    "    print(\"Exception Raised : \",e)\n",
    "    trending=driver.find_element(By.CLASS_NAME,\"HeaderMenu-dropdown-link lh-condensed d-block no-underline position-relative py-2 Link--secondary\")\n",
    "    trending.click()"
   ]
  },
  {
   "cell_type": "code",
   "execution_count": null,
   "id": "4680bda0",
   "metadata": {},
   "outputs": [],
   "source": [
    "Title=[]\n",
    "description=[]\n",
    "contributors=[]\n",
    "language=[]"
   ]
  },
  {
   "cell_type": "code",
   "execution_count": null,
   "id": "69bc797d",
   "metadata": {},
   "outputs": [],
   "source": [
    "\n",
    "        \n",
    "    description_tag=driver.find_elements(By.XPATH,'//p[@class=\"col-9 color-fg-muted my-1 pr-4\"]')   \n",
    "    for j in description_tag:\n",
    "        description.append(j.text)   \n",
    "        \n",
    "    contributor_tag=driver.find_elements(By.XPATH,'//a[@class=\"Link--muted d-inline-block mr-3\"]')   \n",
    "    for l in contributor_tag:\n",
    "        contributors.append(l.text)\n",
    "        \n",
    "    language_tag=driver.find_elements(By.XPATH,'//span[@class=\"d-inline-block ml-0 mr-3\"]')   \n",
    "    for m in language_tag:\n",
    "        language.append(m.text)"
   ]
  },
  {
   "cell_type": "code",
   "execution_count": null,
   "id": "b9bae634",
   "metadata": {},
   "outputs": [],
   "source": [
    "title_tag=driver.find_elements(By.XPATH,'//span[@class=\"text-normal\"]')\n",
    "for i in title_tag:\n",
    "    Title.append(i.text.split('/'))\n",
    "        "
   ]
  },
  {
   "cell_type": "code",
   "execution_count": null,
   "id": "980b5d32",
   "metadata": {},
   "outputs": [],
   "source": [
    "Titles=Title[0:20]\n",
    "Titles"
   ]
  },
  {
   "cell_type": "code",
   "execution_count": null,
   "id": "f923e0ef",
   "metadata": {},
   "outputs": [],
   "source": [
    "descriptions=description[0:20]\n",
    "descriptions"
   ]
  },
  {
   "cell_type": "code",
   "execution_count": null,
   "id": "5d3f23f1",
   "metadata": {},
   "outputs": [],
   "source": [
    "Contributors=contributors[0:20]\n",
    "Contributors"
   ]
  },
  {
   "cell_type": "code",
   "execution_count": null,
   "id": "647e1e8f",
   "metadata": {},
   "outputs": [],
   "source": [
    "languages=language[0:20]\n",
    "languages"
   ]
  },
  {
   "cell_type": "code",
   "execution_count": null,
   "id": "e726573a",
   "metadata": {},
   "outputs": [],
   "source": [
    "Github_data=pd.DataFrame({'Repository title':Titles,'Repository description':descriptions,'Contributors count':Contributors,\n",
    "                          'Language used':languages})\n",
    "Github_data"
   ]
  },
  {
   "cell_type": "markdown",
   "id": "f840345e",
   "metadata": {},
   "source": [
    "5. Scrape the details of top 100 songs on billiboard.com.\n",
    "Url = https:/www.billboard.com/\n",
    "You have to find the following details:\n",
    "A) Song name\n",
    "B) Artist name\n",
    "C) Last week rank\n",
    "D) Peak rank\n",
    "E) Weeks on board"
   ]
  },
  {
   "cell_type": "code",
   "execution_count": null,
   "id": "701ed068",
   "metadata": {},
   "outputs": [],
   "source": [
    "# Opening the billboard page on automated chrome browser\n",
    "\n",
    "driver.get(\" https:/www.billboard.com/\")"
   ]
  },
  {
   "cell_type": "code",
   "execution_count": null,
   "id": "53a89ba1",
   "metadata": {},
   "outputs": [],
   "source": [
    "songs=driver.find_element(By.CLASS_NAME,\"mega-menu-item-heading lrv-u-flex lrv-u-align-items-center lrv-u-color-white u-border-b-2@desktop lrv-u-border-color-brand-primary a-become-color-white-on-expand\")\n",
    "songs.click()"
   ]
  },
  {
   "cell_type": "code",
   "execution_count": null,
   "id": "d875db19",
   "metadata": {},
   "outputs": [],
   "source": [
    "from selenium.common.exceptions import InvalidSelectorException"
   ]
  },
  {
   "cell_type": "code",
   "execution_count": null,
   "id": "7a6c886e",
   "metadata": {},
   "outputs": [],
   "source": [
    "# Handling Exception\n",
    "\n",
    "time.sleep(5)\n",
    "try:\n",
    "    songs=driver.find_element(By.CLASS_NAME,\"mega-menu-item-heading lrv-u-flex lrv-u-align-items-center lrv-u-color-white u-border-b-2@desktop lrv-u-border-color-brand-primary a-become-color-white-on-expand\")\n",
    "    songs.click()\n",
    "    \n",
    "except InvalidSelectorException as e:\n",
    "    print(\"Exception Raised : \",e)\n",
    "    songs=driver.find_element(By.CLASS_NAME,\"mega-menu-item-heading lrv-u-flex lrv-u-align-items-center lrv-u-color-white u-border-b-2@desktop lrv-u-border-color-brand-primary a-become-color-white-on-expand\")\n",
    "    songs.click()"
   ]
  },
  {
   "cell_type": "code",
   "execution_count": null,
   "id": "81528603",
   "metadata": {},
   "outputs": [],
   "source": [
    "driver.close()"
   ]
  },
  {
   "cell_type": "code",
   "execution_count": null,
   "id": "5088ccfa",
   "metadata": {},
   "outputs": [],
   "source": [
    "top100_songs=[]"
   ]
  },
  {
   "cell_type": "code",
   "execution_count": null,
   "id": "2babaae5",
   "metadata": {},
   "outputs": [],
   "source": [
    "    song_tag=driver.find_elements(By.XPATH,'//div[@class=\"u-max-width-960 lrv-u-margin-lr-auto\"]')\n",
    "    for i in song_tag:\n",
    "        top100_songs.append(i.text)\n",
    "        "
   ]
  },
  {
   "cell_type": "code",
   "execution_count": null,
   "id": "78a5464d",
   "metadata": {},
   "outputs": [],
   "source": [
    "top100_songs"
   ]
  },
  {
   "cell_type": "markdown",
   "id": "2b699789",
   "metadata": {},
   "source": [
    "6. Scrape the details of Highest selling novels.\n",
    "Url = https://www.theguardian.com/news/datablog/2012/aug/09/best-selling-books-all-time-fifty-shades-grey\u0002compare/\n",
    "You have to find the following details:\n",
    "A) Book name\n",
    "B) Author name\n",
    "C) Volumes sold\n",
    "D) Publisher\n",
    "E) Genre"
   ]
  },
  {
   "cell_type": "code",
   "execution_count": null,
   "id": "64ca8fde",
   "metadata": {},
   "outputs": [],
   "source": [
    "# First connect to the driver\n",
    "\n",
    "driver=webdriver.Chrome(r\"C:\\Users\\User\\Downloads\\chromedriver_win32\\chromedriver.exe\")"
   ]
  },
  {
   "cell_type": "code",
   "execution_count": null,
   "id": "2ebfbc33",
   "metadata": {},
   "outputs": [],
   "source": [
    "# Opening the novels page on automated chrome browser\n",
    "\n",
    "driver.get(\" https://www.theguardian.com/news/datablog/2012/aug/09/best-selling-books-all-time-fifty-shades-grey-compare/\")"
   ]
  },
  {
   "cell_type": "code",
   "execution_count": null,
   "id": "c0fe863b",
   "metadata": {},
   "outputs": [],
   "source": [
    "Book_Author_Volume_sold_Publisher_Genre=[]"
   ]
  },
  {
   "cell_type": "code",
   "execution_count": null,
   "id": "275eda13",
   "metadata": {},
   "outputs": [],
   "source": [
    "    novels_tag=driver.find_elements(By.XPATH,'//table[@class=\"in-article sortable\"]')\n",
    "    for i in novels_tag:\n",
    "        Book_Author_Volume_sold_Publisher_Genre.append(i.text)"
   ]
  },
  {
   "cell_type": "code",
   "execution_count": null,
   "id": "828cee65",
   "metadata": {},
   "outputs": [],
   "source": [
    "Book_Author_Volume_sold_Publisher_Genre"
   ]
  },
  {
   "cell_type": "markdown",
   "id": "89ac4309",
   "metadata": {},
   "source": [
    "7. Scrape the details most watched tv series of all time from imdb.com.\n",
    "Url = https://www.imdb.com/list/ls095964455/\n",
    "You have to find the following details:\n",
    "A) Name\n",
    "B) Year span\n",
    "C) Genre\n",
    "D) Run time\n",
    "E) Ratings\n",
    "F) Votes"
   ]
  },
  {
   "cell_type": "code",
   "execution_count": null,
   "id": "5c85c4ac",
   "metadata": {},
   "outputs": [],
   "source": [
    "# Opening the naukri page on automated chrome browser\n",
    "\n",
    "driver.get(\" https://www.imdb.com/list/ls095964455/\")"
   ]
  },
  {
   "cell_type": "code",
   "execution_count": null,
   "id": "a3ad80c9",
   "metadata": {},
   "outputs": [],
   "source": [
    "Names=[]\n",
    "Year=[]\n",
    "Genre=[]\n",
    "Time=[]\n",
    "ratings=[]\n",
    "Votes=[]"
   ]
  },
  {
   "cell_type": "code",
   "execution_count": null,
   "id": "e3cb40ac",
   "metadata": {},
   "outputs": [],
   "source": [
    "        \n",
    "    year_tag=driver.find_elements(By.XPATH,'//span[@class=\"lister-item-year text-muted unbold\"]')   \n",
    "    for j in year_tag:\n",
    "        Year.append(j.text)   \n",
    "        \n",
    "    genre_tag=driver.find_elements(By.XPATH,'//span[@class=\"genre\"]')   \n",
    "    for l in genre_tag:\n",
    "        Genre.append(l.text)\n",
    "        \n",
    "    time_tag=driver.find_elements(By.XPATH,'//span[@class=\"runtime\"]')   \n",
    "    for m in time_tag:\n",
    "        Time.append(m.text)\n",
    "        \n",
    "    rating_tag=driver.find_elements(By.XPATH,'//span[@class=\"ipl-rating-star__rating\"]')   \n",
    "    for n in rating_tag:\n",
    "        ratings.append(n.text)  "
   ]
  },
  {
   "cell_type": "code",
   "execution_count": null,
   "id": "2c70dc44",
   "metadata": {},
   "outputs": [],
   "source": [
    "    name_tag=driver.find_elements(By.XPATH,'//h3[@class=\"lister-item-header\"]')\n",
    "    for i in name_tag:\n",
    "        Names.append(i.text)"
   ]
  },
  {
   "cell_type": "code",
   "execution_count": null,
   "id": "517774d3",
   "metadata": {
    "scrolled": false
   },
   "outputs": [],
   "source": [
    "Names"
   ]
  },
  {
   "cell_type": "code",
   "execution_count": null,
   "id": "b8d927df",
   "metadata": {},
   "outputs": [],
   "source": [
    "    vote_tag=driver.find_elements(By.XPATH,'//span[@name=\"nv\"]')   \n",
    "    for o in vote_tag:\n",
    "        Votes.append(o.text)"
   ]
  },
  {
   "cell_type": "code",
   "execution_count": null,
   "id": "413cc43a",
   "metadata": {},
   "outputs": [],
   "source": [
    "Votes"
   ]
  },
  {
   "cell_type": "code",
   "execution_count": null,
   "id": "33d4ac94",
   "metadata": {},
   "outputs": [],
   "source": [
    "Year"
   ]
  },
  {
   "cell_type": "code",
   "execution_count": null,
   "id": "c0742d89",
   "metadata": {},
   "outputs": [],
   "source": [
    "Genre"
   ]
  },
  {
   "cell_type": "code",
   "execution_count": null,
   "id": "f3d4d7dc",
   "metadata": {
    "scrolled": true
   },
   "outputs": [],
   "source": [
    "Time"
   ]
  },
  {
   "cell_type": "code",
   "execution_count": null,
   "id": "cf13b296",
   "metadata": {},
   "outputs": [],
   "source": [
    "    rating_tag=driver.find_elements(By.XPATH,'//span[@class=\"ipl-rating-star__rating\"]')   \n",
    "    for n in rating_tag:\n",
    "        ratings.append(n.text)"
   ]
  },
  {
   "cell_type": "code",
   "execution_count": null,
   "id": "62a2a439",
   "metadata": {},
   "outputs": [],
   "source": [
    "Rating_s=ratings[0:100]\n",
    "Rating_s"
   ]
  },
  {
   "cell_type": "code",
   "execution_count": null,
   "id": "7e5c498a",
   "metadata": {},
   "outputs": [],
   "source": [
    "print(len(Names),len(Year),len(Genre),len(Time),len(Rating_s),len(Votes))"
   ]
  },
  {
   "cell_type": "code",
   "execution_count": null,
   "id": "147a41d1",
   "metadata": {
    "scrolled": false
   },
   "outputs": [],
   "source": [
    "imdb_most_watched_data=pd.DataFrame({'Name':Names,'Year span':Year,'Genre':Genre,'Run time':Time,\n",
    "                                     'Ratings':Rating_s,'Votes':Votes})\n",
    "imdb_most_watched_data"
   ]
  },
  {
   "cell_type": "markdown",
   "id": "a42174bb",
   "metadata": {},
   "source": [
    "8. Details of Datasets from UCI machine learning repositories.\n",
    "Url = https://archive.ics.uci.edu/\n",
    "You have to find the following details:\n",
    "A) Dataset name\n",
    "B) Data type\n",
    "C) Task\n",
    "D) Attribute type\n",
    "E) No of instances\n",
    "F) No of attribute\n",
    "G) Year"
   ]
  },
  {
   "cell_type": "code",
   "execution_count": null,
   "id": "f07c6eb4",
   "metadata": {},
   "outputs": [],
   "source": [
    "# Opening the UCI repository page on automated chrome browser\n",
    "\n",
    "driver.get(\"https://archive.ics.uci.edu/\")"
   ]
  },
  {
   "cell_type": "code",
   "execution_count": null,
   "id": "24c9a5ba",
   "metadata": {},
   "outputs": [],
   "source": [
    "search=driver.find_element(By.CLASS_NAME,\"whitetext\")\n",
    "search.click()"
   ]
  },
  {
   "cell_type": "code",
   "execution_count": null,
   "id": "7084e68f",
   "metadata": {},
   "outputs": [],
   "source": [
    "UCI_details=[]"
   ]
  },
  {
   "cell_type": "code",
   "execution_count": null,
   "id": "b17667ba",
   "metadata": {},
   "outputs": [],
   "source": [
    "    uci_tag=driver.find_elements(By.XPATH,'//td[@valign=\"top\"]')   \n",
    "    for o in uci_tag:\n",
    "        UCI_details.append(o.text)"
   ]
  },
  {
   "cell_type": "code",
   "execution_count": null,
   "id": "801f6f04",
   "metadata": {
    "scrolled": false
   },
   "outputs": [],
   "source": [
    "UCI_details"
   ]
  },
  {
   "cell_type": "code",
   "execution_count": null,
   "id": "4d85a0cc",
   "metadata": {},
   "outputs": [],
   "source": []
  }
 ],
 "metadata": {
  "kernelspec": {
   "display_name": "Python 3 (ipykernel)",
   "language": "python",
   "name": "python3"
  },
  "language_info": {
   "codemirror_mode": {
    "name": "ipython",
    "version": 3
   },
   "file_extension": ".py",
   "mimetype": "text/x-python",
   "name": "python",
   "nbconvert_exporter": "python",
   "pygments_lexer": "ipython3",
   "version": "3.9.13"
  }
 },
 "nbformat": 4,
 "nbformat_minor": 5
}
