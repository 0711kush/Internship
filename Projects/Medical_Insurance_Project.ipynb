{
 "cells": [
  {
   "cell_type": "markdown",
   "id": "c1942817",
   "metadata": {},
   "source": [
    "# Medical Insurance Project"
   ]
  },
  {
   "cell_type": "markdown",
   "id": "8cb8e0ef",
   "metadata": {},
   "source": [
    "## Problem Statement\n",
    "Health insurance is a type of insurance that covers medical expenses that arise due to an illness. These expenses could be related to hospitalisation costs, cost of medicines or doctor consultation fees. The main purpose of medical insurance is to receive the best medical care without any strain on your finances. Health insurance plans offer protection against high medical costs. It covers hospitalization expenses, day care procedures, domiciliary expenses, and ambulance charges, besides many others. Based on certain input features such as age , bmi, no of dependents ,smoker ,region medical insurance is calculated ."
   ]
  },
  {
   "cell_type": "markdown",
   "id": "5a03d6f0",
   "metadata": {},
   "source": [
    "#### Columns\n",
    " - age: age of primary beneficiary\n",
    " - sex: insurance contractor gender, female, male\n",
    " - bmi: Body mass index, providing an understanding of body, weights that are relatively high or low relative to height, objective index of body weight (kg I m 'A 2) using the ratio of height to weight, ideally 18.5 to 24.9.\n",
    " - children: Number of children covered by health insurance / Number of dependents\n",
    " - smoker: Smoking\n",
    " - region: the beneficiarys residential area in the US, northeast, southeast, southwest, northwest.\n",
    " - charges: Individual medical costs billed by health insurance\n",
    " \n",
    " \n",
    " Links - https://github.com/dsrscientist/dataset4/blob/main/medical_cost_insurance.csv"
   ]
  },
  {
   "cell_type": "markdown",
   "id": "36da2fa4",
   "metadata": {},
   "source": [
    "### Importing necessary libraries"
   ]
  },
  {
   "cell_type": "code",
   "execution_count": null,
   "id": "050d6199",
   "metadata": {},
   "outputs": [],
   "source": [
    "import pandas as pd\n",
    "import numpy as np\n",
    "from sklearn.preprocessing import StandardScaler\n",
    "from sklearn.linear_model import LogisticRegression\n",
    "from sklearn.model_selection import train_test_split\n",
    "from statsmodels.stats.outliers_influence import variance_inflation_factor\n",
    "from sklearn.metrics import accuracy_score, confusion_matrix, roc_curve, roc_auc_score\n",
    "import matplotlib.pyplot as plt\n",
    "import seaborn as sns\n",
    "\n",
    "\n",
    "import warnings\n",
    "warnings.filterwarnings('ignore')"
   ]
  },
  {
   "cell_type": "markdown",
   "id": "60d02718",
   "metadata": {},
   "source": [
    "## READING DATASET"
   ]
  },
  {
   "cell_type": "code",
   "execution_count": null,
   "id": "53da90a9",
   "metadata": {},
   "outputs": [],
   "source": [
    "df = pd.read_csv('Medical Insurance Project.csv')  \n",
    "df"
   ]
  },
  {
   "cell_type": "markdown",
   "id": "27f01929",
   "metadata": {},
   "source": [
    "### Let's do some non-graphical analysis first to understand the dataset"
   ]
  },
  {
   "cell_type": "code",
   "execution_count": null,
   "id": "3a98109e",
   "metadata": {},
   "outputs": [],
   "source": [
    "df.shape"
   ]
  },
  {
   "cell_type": "code",
   "execution_count": null,
   "id": "217e66a2",
   "metadata": {
    "scrolled": false
   },
   "outputs": [],
   "source": [
    "df.describe()"
   ]
  },
  {
   "cell_type": "code",
   "execution_count": null,
   "id": "e8234165",
   "metadata": {
    "scrolled": true
   },
   "outputs": [],
   "source": [
    "df.info()"
   ]
  },
  {
   "cell_type": "markdown",
   "id": "cb5ccd8e",
   "metadata": {},
   "source": [
    "## Some Observations Based On Obove Description\n"
   ]
  },
  {
   "cell_type": "raw",
   "id": "e6169fd9",
   "metadata": {},
   "source": [
    "1. there are no none values are present as count value for all varaibles is same\n",
    "\n",
    "2. mean value isgreater than median it means that the data is right skewed in charges column\n",
    "\n",
    "3. columns sex, smoker & charges has object datatype which we hv to convert later into integer/float"
   ]
  },
  {
   "cell_type": "markdown",
   "id": "40baa3d7",
   "metadata": {},
   "source": [
    "### lets check the count values for each column"
   ]
  },
  {
   "cell_type": "code",
   "execution_count": null,
   "id": "bd88ce75",
   "metadata": {},
   "outputs": [],
   "source": [
    "print(df['age'].value_counts())\n"
   ]
  },
  {
   "cell_type": "code",
   "execution_count": null,
   "id": "0bea92c2",
   "metadata": {},
   "outputs": [],
   "source": [
    "print(df['sex'].value_counts())"
   ]
  },
  {
   "cell_type": "markdown",
   "id": "c8239121",
   "metadata": {},
   "source": [
    "## Data is balanced in this case"
   ]
  },
  {
   "cell_type": "code",
   "execution_count": null,
   "id": "576b3fe9",
   "metadata": {},
   "outputs": [],
   "source": [
    "print(df['bmi'].value_counts())"
   ]
  },
  {
   "cell_type": "code",
   "execution_count": null,
   "id": "7e9b3641",
   "metadata": {},
   "outputs": [],
   "source": [
    "print(df['children'].value_counts())"
   ]
  },
  {
   "cell_type": "code",
   "execution_count": null,
   "id": "6ddd8dbf",
   "metadata": {},
   "outputs": [],
   "source": [
    "print(df['smoker'].value_counts())"
   ]
  },
  {
   "cell_type": "code",
   "execution_count": null,
   "id": "4acdc328",
   "metadata": {},
   "outputs": [],
   "source": [
    "print(df['region'].value_counts())"
   ]
  },
  {
   "cell_type": "code",
   "execution_count": null,
   "id": "24223f01",
   "metadata": {},
   "outputs": [],
   "source": [
    "print(df['charges'].value_counts())"
   ]
  },
  {
   "cell_type": "markdown",
   "id": "caa28708",
   "metadata": {},
   "source": [
    "## As the target variable has continous data so it is a regression problem"
   ]
  },
  {
   "cell_type": "code",
   "execution_count": null,
   "id": "ef5a64e6",
   "metadata": {},
   "outputs": [],
   "source": [
    "df.isna().sum()  #finding the count if missing values from different columns"
   ]
  },
  {
   "cell_type": "markdown",
   "id": "4a324ec5",
   "metadata": {},
   "source": [
    "### NO null values "
   ]
  },
  {
   "cell_type": "markdown",
   "id": "b75bc394",
   "metadata": {},
   "source": [
    "### Lets visualise the relationship between target variable and features having continous data"
   ]
  },
  {
   "cell_type": "code",
   "execution_count": null,
   "id": "461cd453",
   "metadata": {},
   "outputs": [],
   "source": [
    "sns.regplot(x = 'charges', y = 'age', data = df)  #reg-regression-pointer always go  upward\n",
    "\n",
    "plt.show()"
   ]
  },
  {
   "cell_type": "code",
   "execution_count": null,
   "id": "aaa7e8f3",
   "metadata": {},
   "outputs": [],
   "source": [
    "sns.regplot(x = 'charges', y = 'bmi', data = df)  \n",
    "\n",
    "plt.show()"
   ]
  },
  {
   "cell_type": "code",
   "execution_count": null,
   "id": "21dd5693",
   "metadata": {},
   "outputs": [],
   "source": [
    "sns.regplot(x = 'charges', y = 'children', data = df)  \n",
    "\n",
    "plt.show()"
   ]
  },
  {
   "cell_type": "code",
   "execution_count": null,
   "id": "6f27b864",
   "metadata": {},
   "outputs": [],
   "source": [
    "# Checking for  skeweness\n",
    "\n",
    "df.skew()"
   ]
  },
  {
   "cell_type": "markdown",
   "id": "58823cc6",
   "metadata": {},
   "source": [
    "### As from the above observation here also we can see that the skeweness is present in the \"charges\" column but we dont remove the skeweness from target variable so we keepit as it is."
   ]
  },
  {
   "cell_type": "code",
   "execution_count": null,
   "id": "6110ffcd",
   "metadata": {},
   "outputs": [],
   "source": []
  },
  {
   "cell_type": "markdown",
   "id": "5dafdf10",
   "metadata": {},
   "source": [
    "## Checking outliers using boxplot"
   ]
  },
  {
   "cell_type": "markdown",
   "id": "0a263524",
   "metadata": {},
   "source": [
    "### As we dont check outliers for taget variable as well as categorical data so we drop them first"
   ]
  },
  {
   "cell_type": "code",
   "execution_count": null,
   "id": "3fb91a2d",
   "metadata": {},
   "outputs": [],
   "source": [
    "df_features = df.drop('charges', axis = 1)\n",
    "df1 = df_features.drop('sex', axis = 1)\n",
    "df2 = df1.drop('smoker', axis = 1)\n",
    "df3 = df2.drop('region', axis =1)"
   ]
  },
  {
   "cell_type": "code",
   "execution_count": null,
   "id": "d0d1e500",
   "metadata": {},
   "outputs": [],
   "source": [
    "# boxplot\n",
    "\n",
    "plt.figure(figsize=(5,6))     #5 is x axis measurement and 6 is of y\n",
    "\n",
    "ax = sns.boxplot(data=df3)   \n",
    "\n",
    "plt.yticks(range(5,61,5))     #range on y axis.. ticks - distance between two numbers \n",
    "\n",
    "plt.xlabel('Checking For Outliers')\n",
    "\n",
    "plt.show()"
   ]
  },
  {
   "cell_type": "markdown",
   "id": "01b26d1d",
   "metadata": {},
   "source": [
    "### We can see that the outliers are present in 'bmi' column"
   ]
  },
  {
   "cell_type": "markdown",
   "id": "28fb5db0",
   "metadata": {},
   "source": [
    "### Removing outliers from 'bmi' column"
   ]
  },
  {
   "cell_type": "code",
   "execution_count": null,
   "id": "538151d9",
   "metadata": {},
   "outputs": [],
   "source": [
    "df[df['bmi']<45].shape"
   ]
  },
  {
   "cell_type": "code",
   "execution_count": null,
   "id": "dd63621d",
   "metadata": {},
   "outputs": [],
   "source": [
    "df.head()"
   ]
  },
  {
   "cell_type": "markdown",
   "id": "2459a07e",
   "metadata": {},
   "source": [
    "### Plotting Heatmap(Correlation matrix)\n",
    "### Let's plot heatmap to visualize and find the coefficient of multicolinearity"
   ]
  },
  {
   "cell_type": "code",
   "execution_count": null,
   "id": "290db2e6",
   "metadata": {},
   "outputs": [],
   "source": [
    "df_corr = df.corr().abs() #this code will get thecoefficient of one variable vs all other variables, abs is absolute no\n",
    "\n",
    "plt.figure(figsize = (5, 4))\n",
    "\n",
    "sns.heatmap(df_corr, annot = True, annot_kws = {'size' : 10})\n",
    "\n",
    "plt.show()"
   ]
  },
  {
   "cell_type": "markdown",
   "id": "a0083900",
   "metadata": {},
   "source": [
    "## From above heatmap we can see that there is no multicollinearity"
   ]
  },
  {
   "cell_type": "markdown",
   "id": "ed5141e5",
   "metadata": {},
   "source": [
    "### Before building a model we have to encode the datapoints having 'object' datatypes"
   ]
  },
  {
   "cell_type": "code",
   "execution_count": null,
   "id": "58e88110",
   "metadata": {},
   "outputs": [],
   "source": [
    "from sklearn.preprocessing import LabelEncoder\n",
    "lab_enc = LabelEncoder()"
   ]
  },
  {
   "cell_type": "code",
   "execution_count": null,
   "id": "510ae18c",
   "metadata": {},
   "outputs": [],
   "source": [
    "df2 = lab_enc.fit_transform(df['sex'])\n",
    "\n",
    "pd.Series(df2)"
   ]
  },
  {
   "cell_type": "code",
   "execution_count": null,
   "id": "c438abaa",
   "metadata": {},
   "outputs": [],
   "source": [
    "df['sex'] = df2\n",
    "\n",
    "df"
   ]
  },
  {
   "cell_type": "code",
   "execution_count": null,
   "id": "4ba9c687",
   "metadata": {},
   "outputs": [],
   "source": [
    "df2 = lab_enc.fit_transform(df['smoker'])\n",
    "\n",
    "pd.Series(df2)"
   ]
  },
  {
   "cell_type": "code",
   "execution_count": null,
   "id": "a4b2b4ec",
   "metadata": {},
   "outputs": [],
   "source": [
    "df['smoker'] = df2\n",
    "\n",
    "df"
   ]
  },
  {
   "cell_type": "code",
   "execution_count": null,
   "id": "f9768a3f",
   "metadata": {},
   "outputs": [],
   "source": [
    "from sklearn.preprocessing import OrdinalEncoder"
   ]
  },
  {
   "cell_type": "code",
   "execution_count": null,
   "id": "d076efa9",
   "metadata": {},
   "outputs": [],
   "source": [
    "ord_enc = OrdinalEncoder(categories = [['southeast', 'southwest', 'northeast', 'northwest']])\n",
    "\n",
    "Encoded_df = ord_enc.fit_transform(df[['region']])\n",
    "\n",
    "Encoded_df"
   ]
  },
  {
   "cell_type": "code",
   "execution_count": null,
   "id": "511fc065",
   "metadata": {},
   "outputs": [],
   "source": [
    "df['region'] = Encoded_df\n",
    "\n",
    "df"
   ]
  },
  {
   "cell_type": "markdown",
   "id": "b7c851c6",
   "metadata": {},
   "source": [
    "### After Encoding we check the correlation using heatmap"
   ]
  },
  {
   "cell_type": "code",
   "execution_count": null,
   "id": "b37db6ed",
   "metadata": {},
   "outputs": [],
   "source": [
    "df_corr = df.corr().abs() #this code will get thecoefficient of one variable vs all other variables, abs is absolute no\n",
    "\n",
    "plt.figure(figsize = (5, 4))\n",
    "\n",
    "sns.heatmap(df_corr, annot = True, annot_kws = {'size' : 10})\n",
    "\n",
    "plt.show()"
   ]
  },
  {
   "cell_type": "markdown",
   "id": "cac210e2",
   "metadata": {},
   "source": [
    "### We can clearly see that there are no highly correlated features in our dataset"
   ]
  },
  {
   "cell_type": "markdown",
   "id": "06145a9f",
   "metadata": {},
   "source": [
    "## Now our data is ready to build a model"
   ]
  },
  {
   "cell_type": "markdown",
   "id": "48180141",
   "metadata": {},
   "source": [
    "## ModelBuilding"
   ]
  },
  {
   "cell_type": "code",
   "execution_count": null,
   "id": "b424f02b",
   "metadata": {},
   "outputs": [],
   "source": [
    "from sklearn.linear_model import LinearRegression, Lasso, Ridge\n",
    "\n",
    "\n"
   ]
  },
  {
   "cell_type": "code",
   "execution_count": null,
   "id": "ca40209b",
   "metadata": {},
   "outputs": [],
   "source": []
  },
  {
   "cell_type": "markdown",
   "id": "6861e5e2",
   "metadata": {},
   "source": [
    "## Linear Regression"
   ]
  },
  {
   "cell_type": "code",
   "execution_count": null,
   "id": "1a941e85",
   "metadata": {},
   "outputs": [],
   "source": [
    "# Devide data into features and labels\n",
    "\n",
    "y = df['charges']\n",
    "\n",
    "x = df.drop(columns = ['charges'] )"
   ]
  },
  {
   "cell_type": "code",
   "execution_count": null,
   "id": "bf1d24f0",
   "metadata": {},
   "outputs": [],
   "source": [
    "x_train,x_test,y_train,y_test = train_test_split(x,y,test_size = 0.25,random_state=384)"
   ]
  },
  {
   "cell_type": "code",
   "execution_count": null,
   "id": "e8637b13",
   "metadata": {},
   "outputs": [],
   "source": [
    "from sklearn.linear_model import LinearRegression\n",
    "\n",
    "\n",
    "regression = LinearRegression()\n",
    "\n",
    "regression.fit(x_train, y_train) "
   ]
  },
  {
   "cell_type": "code",
   "execution_count": null,
   "id": "58cb5053",
   "metadata": {},
   "outputs": [],
   "source": [
    "scaler = StandardScaler()\n",
    "x_train = scaler.fit_transform(x_train)\n",
    "x_test = scaler.transform(x_test)"
   ]
  },
  {
   "cell_type": "code",
   "execution_count": null,
   "id": "dd241fd8",
   "metadata": {},
   "outputs": [],
   "source": [
    "from sklearn.metrics import mean_absolute_percentage_error as mape\n",
    "    \n",
    "y_pred = regression.predict(x_train)\n",
    "print('Training Error : ', mape(y_train, y_pred))\n",
    "  \n",
    "y_pred = regression.predict(x_test)\n",
    "print('Validation Error : ', mape(y_test, y_pred))\n",
    "print()"
   ]
  },
  {
   "cell_type": "markdown",
   "id": "2d347048",
   "metadata": {},
   "source": [
    "### Predict the charges from given features"
   ]
  },
  {
   "cell_type": "code",
   "execution_count": null,
   "id": "c6550000",
   "metadata": {},
   "outputs": [],
   "source": [
    "df.tail(2)"
   ]
  },
  {
   "cell_type": "code",
   "execution_count": null,
   "id": "8b616446",
   "metadata": {},
   "outputs": [],
   "source": [
    "print('Insurance cost : ',regression.predict(scaler.transform([[61, 0, 29.07, 0, 1, 3.0]])))"
   ]
  },
  {
   "cell_type": "markdown",
   "id": "9e4defc8",
   "metadata": {},
   "source": [
    "### Let's check how well model fits the train data/ how could model learned"
   ]
  },
  {
   "cell_type": "code",
   "execution_count": null,
   "id": "4e08a936",
   "metadata": {},
   "outputs": [],
   "source": [
    "# Adjusted R2 score\n",
    "\n",
    "regression.score(x_train,y_train)"
   ]
  },
  {
   "cell_type": "markdown",
   "id": "49f71204",
   "metadata": {},
   "source": [
    "### Let's plot and visualize"
   ]
  },
  {
   "cell_type": "code",
   "execution_count": null,
   "id": "6e421c27",
   "metadata": {},
   "outputs": [],
   "source": [
    "y_pred = regression.predict(x_test)\n",
    "\n",
    "y_pred"
   ]
  },
  {
   "cell_type": "code",
   "execution_count": null,
   "id": "2adb00c4",
   "metadata": {},
   "outputs": [],
   "source": [
    "plt.scatter(y_test,y_pred)\n",
    "plt.xlabel('Actual Charges')\n",
    "plt.ylabel('Predicted Chrages')\n",
    "plt.title('Actual VS Model Predicted')\n",
    "plt.show()"
   ]
  },
  {
   "cell_type": "code",
   "execution_count": null,
   "id": "6c7b92ff",
   "metadata": {},
   "outputs": [],
   "source": [
    "## "
   ]
  },
  {
   "cell_type": "code",
   "execution_count": null,
   "id": "d0adc40b",
   "metadata": {},
   "outputs": [],
   "source": []
  },
  {
   "cell_type": "markdown",
   "id": "74325ae8",
   "metadata": {},
   "source": [
    "## Random Forest Regressor"
   ]
  },
  {
   "cell_type": "code",
   "execution_count": null,
   "id": "a07fa7fd",
   "metadata": {},
   "outputs": [],
   "source": [
    "x_train,x_test,y_transformed,y_test = train_test_split(x,y,test_size = 0.25, random_state = 41)"
   ]
  },
  {
   "cell_type": "code",
   "execution_count": null,
   "id": "520c58a6",
   "metadata": {},
   "outputs": [],
   "source": [
    "from sklearn.ensemble import RandomForestRegressor\n",
    "from sklearn.datasets import make_regression\n",
    "X, y = make_regression(n_features=6, n_informative=2, random_state=0, shuffle=False)\n",
    "rfr = RandomForestRegressor(max_depth=6)\n",
    "rfr.fit(X, y)"
   ]
  },
  {
   "cell_type": "code",
   "execution_count": null,
   "id": "034ab4a3",
   "metadata": {},
   "outputs": [],
   "source": [
    "df.tail(2)"
   ]
  },
  {
   "cell_type": "code",
   "execution_count": null,
   "id": "6f762edb",
   "metadata": {},
   "outputs": [],
   "source": [
    "print(rfr.predict([[61, 0, 29.07, 0, 1, 3.0]]))\n"
   ]
  },
  {
   "cell_type": "code",
   "execution_count": null,
   "id": "35858f5b",
   "metadata": {},
   "outputs": [],
   "source": [
    "RM = RandomForestRegressor()\n",
    "\n",
    "\n",
    "RM.fit(x_train, y_train) \n",
    "y_pred = RM.predict(x_train)\n",
    "print('Training Error : ', mape(y_train, y_pred))\n",
    "  \n",
    "y_pred = RM.predict(x_test)\n",
    "print('Validation Error : ', mape(y_test, y_pred))\n",
    "print()"
   ]
  },
  {
   "cell_type": "markdown",
   "id": "2fb08eb2",
   "metadata": {},
   "source": [
    "### Predict the charges from given features"
   ]
  },
  {
   "cell_type": "code",
   "execution_count": null,
   "id": "4e97a5f1",
   "metadata": {},
   "outputs": [],
   "source": [
    "print('Insurance cost : ',RM.predict(scaler.transform([[61, 0, 29.07, 0, 1, 3.0]])))"
   ]
  },
  {
   "cell_type": "markdown",
   "id": "74a83799",
   "metadata": {},
   "source": [
    "### Let's check how well model fits the train data/ how could model learned"
   ]
  },
  {
   "cell_type": "code",
   "execution_count": null,
   "id": "e91feeae",
   "metadata": {},
   "outputs": [],
   "source": [
    "# Adjusted R2 score\n",
    "\n",
    "RM.score(x_train,y_train)"
   ]
  },
  {
   "cell_type": "markdown",
   "id": "36b35ddc",
   "metadata": {},
   "source": [
    "## Lasso"
   ]
  },
  {
   "cell_type": "code",
   "execution_count": null,
   "id": "68fe0437",
   "metadata": {},
   "outputs": [],
   "source": [
    "from sklearn.linear_model import Lasso, Ridge"
   ]
  },
  {
   "cell_type": "code",
   "execution_count": null,
   "id": "cd1cdb8b",
   "metadata": {},
   "outputs": [],
   "source": [
    "l = Lasso()\n",
    "l.fit(x_train, y_train) \n"
   ]
  },
  {
   "cell_type": "code",
   "execution_count": null,
   "id": "6343904e",
   "metadata": {},
   "outputs": [],
   "source": [
    "l.fit(x_train, y_train) \n",
    "y_pred = l.predict(x_train)\n",
    "print('Training Error : ', mape(y_train, y_pred))\n",
    "  \n",
    "y_pred = l.predict(x_test)\n",
    "print('Validation Error : ', mape(y_test, y_pred))\n",
    "print()"
   ]
  },
  {
   "cell_type": "markdown",
   "id": "d48ed853",
   "metadata": {},
   "source": [
    "### Predict the charges from given features"
   ]
  },
  {
   "cell_type": "code",
   "execution_count": null,
   "id": "877f985d",
   "metadata": {},
   "outputs": [],
   "source": [
    "print('Insurance cost : ',l.predict(scaler.transform([[61, 0, 29.07, 0, 1, 3.0]])))"
   ]
  },
  {
   "cell_type": "markdown",
   "id": "c45cc2f1",
   "metadata": {},
   "source": [
    "### Let's check how well model fits the train data/ how could model learned"
   ]
  },
  {
   "cell_type": "code",
   "execution_count": null,
   "id": "374bcaa7",
   "metadata": {},
   "outputs": [],
   "source": [
    "# Adjusted R2 score\n",
    "\n",
    "l.score(x_train,y_train)"
   ]
  },
  {
   "cell_type": "markdown",
   "id": "76619ee8",
   "metadata": {},
   "source": [
    "## Ridge"
   ]
  },
  {
   "cell_type": "code",
   "execution_count": null,
   "id": "0b8f84d5",
   "metadata": {},
   "outputs": [],
   "source": [
    "r = Ridge()\n",
    "r.fit(x_train, y_train) "
   ]
  },
  {
   "cell_type": "code",
   "execution_count": null,
   "id": "36d6eb48",
   "metadata": {},
   "outputs": [],
   "source": [
    "r.fit(x_train, y_train) \n",
    "y_pred = r.predict(x_train)\n",
    "print('Training Error : ', mape(y_train, y_pred))\n",
    "  \n",
    "y_pred = r.predict(x_test)\n",
    "print('Validation Error : ', mape(y_test, y_pred))\n",
    "print()"
   ]
  },
  {
   "cell_type": "markdown",
   "id": "eaa11a53",
   "metadata": {},
   "source": [
    "### Predict the charges from given features"
   ]
  },
  {
   "cell_type": "code",
   "execution_count": null,
   "id": "35334642",
   "metadata": {},
   "outputs": [],
   "source": [
    "print('Insurance cost : ',r.predict(scaler.transform([[61, 0, 29.07, 0, 1, 3.0]])))"
   ]
  },
  {
   "cell_type": "markdown",
   "id": "0ef6f096",
   "metadata": {},
   "source": [
    "### Let's check how well model fits the train data/ how could model learned"
   ]
  },
  {
   "cell_type": "code",
   "execution_count": null,
   "id": "5cfe553b",
   "metadata": {},
   "outputs": [],
   "source": [
    "# Adjusted R2 score\n",
    "\n",
    "r.score(x_train,y_train)"
   ]
  },
  {
   "cell_type": "markdown",
   "id": "014a354f",
   "metadata": {},
   "source": [
    "## AdaBoost"
   ]
  },
  {
   "cell_type": "code",
   "execution_count": null,
   "id": "92806993",
   "metadata": {},
   "outputs": [],
   "source": [
    "from sklearn.ensemble import AdaBoostRegressor"
   ]
  },
  {
   "cell_type": "code",
   "execution_count": null,
   "id": "9d187e9c",
   "metadata": {},
   "outputs": [],
   "source": [
    "ADB = AdaBoostRegressor()\n",
    "ADB.fit(x_train, y_train) "
   ]
  },
  {
   "cell_type": "code",
   "execution_count": null,
   "id": "72f2ef33",
   "metadata": {},
   "outputs": [],
   "source": [
    "ADB.fit(x_train, y_train) \n",
    "y_pred = ADB.predict(x_train)\n",
    "print('Training Error : ', mape(y_train, y_pred))\n",
    "  \n",
    "y_pred = ADB.predict(x_test)\n",
    "print('Validation Error : ', mape(y_test, y_pred))\n",
    "print()"
   ]
  },
  {
   "cell_type": "markdown",
   "id": "bba43b91",
   "metadata": {},
   "source": [
    "### Predict the charges from given features"
   ]
  },
  {
   "cell_type": "code",
   "execution_count": null,
   "id": "00a936a1",
   "metadata": {},
   "outputs": [],
   "source": [
    "print('Insurance cost : ',r.predict(scaler.transform([[61, 0, 29.07, 0, 1, 3.0]])))"
   ]
  },
  {
   "cell_type": "markdown",
   "id": "683b0d10",
   "metadata": {},
   "source": [
    "### Let's check how well model fits the train data/ how could model learned"
   ]
  },
  {
   "cell_type": "code",
   "execution_count": null,
   "id": "01450ccb",
   "metadata": {},
   "outputs": [],
   "source": [
    "# Adjusted R2 score\n",
    "\n",
    "r.score(x_train,y_train)"
   ]
  },
  {
   "cell_type": "markdown",
   "id": "c770207c",
   "metadata": {},
   "source": [
    "## Conclusion"
   ]
  },
  {
   "cell_type": "markdown",
   "id": "c5a7ec20",
   "metadata": {},
   "source": [
    "### As the RandomForest gives the least absolute error so it is good model for the prediction of a medicalinsurance"
   ]
  },
  {
   "cell_type": "code",
   "execution_count": null,
   "id": "b25bfd30",
   "metadata": {},
   "outputs": [],
   "source": []
  }
 ],
 "metadata": {
  "kernelspec": {
   "display_name": "Python 3 (ipykernel)",
   "language": "python",
   "name": "python3"
  },
  "language_info": {
   "codemirror_mode": {
    "name": "ipython",
    "version": 3
   },
   "file_extension": ".py",
   "mimetype": "text/x-python",
   "name": "python",
   "nbconvert_exporter": "python",
   "pygments_lexer": "ipython3",
   "version": "3.11.3"
  }
 },
 "nbformat": 4,
 "nbformat_minor": 5
}
