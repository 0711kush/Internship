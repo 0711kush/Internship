{
 "cells": [
  {
   "cell_type": "markdown",
   "id": "5ee49103",
   "metadata": {},
   "source": [
    "# Exception Handling using Selenium"
   ]
  },
  {
   "cell_type": "code",
   "execution_count": null,
   "id": "a78dd1c1",
   "metadata": {},
   "outputs": [],
   "source": [
    "import warnings\n",
    "warnings.filterwarnings('ignore')"
   ]
  },
  {
   "cell_type": "code",
   "execution_count": null,
   "id": "398d063b",
   "metadata": {},
   "outputs": [],
   "source": [
    "!pip install selenium"
   ]
  },
  {
   "cell_type": "code",
   "execution_count": null,
   "id": "76da9d8f",
   "metadata": {},
   "outputs": [],
   "source": [
    "# Importing Required Libraries\n",
    "\n",
    "import selenium\n",
    "import pandas as pd\n",
    "import numpy as np\n",
    "from selenium import webdriver\n",
    "from selenium.common.exceptions import StaleElementReferenceException, NoSuchElementException\n",
    "from selenium.webdriver.common.by import By\n",
    "import time"
   ]
  },
  {
   "cell_type": "code",
   "execution_count": null,
   "id": "4135c5c5",
   "metadata": {},
   "outputs": [],
   "source": [
    "# First connect to the driver\n",
    "\n",
    "driver=webdriver.Chrome(r\"C:\\Users\\User\\Downloads\\chromedriver_win32\\chromedriver.exe\")"
   ]
  },
  {
   "cell_type": "code",
   "execution_count": null,
   "id": "6a4d8451",
   "metadata": {},
   "outputs": [],
   "source": [
    "# To maximize the window of the web browser\n",
    "\n",
    "driver.maximize_window()"
   ]
  },
  {
   "cell_type": "markdown",
   "id": "5ff8617a",
   "metadata": {},
   "source": [
    "# 1. Write a python program which searches all the product under a particular product from www.amazon.in.  The product to be searched will be taken as input from user. For e.g. If user input is ‘guitar’. Then search  for guitars."
   ]
  },
  {
   "cell_type": "code",
   "execution_count": null,
   "id": "2615f18f",
   "metadata": {},
   "outputs": [],
   "source": [
    "user_input=input(\"Enter the product you want to search: \")"
   ]
  },
  {
   "cell_type": "code",
   "execution_count": null,
   "id": "5a6f5c70",
   "metadata": {},
   "outputs": [],
   "source": [
    "# Opening the amazon page on automated chrome browser\n",
    "\n",
    "driver.get(\"https://www.amazon.in/\")"
   ]
  },
  {
   "cell_type": "code",
   "execution_count": null,
   "id": "b2f9fcd2",
   "metadata": {},
   "outputs": [],
   "source": [
    "# entering the user input\n",
    "\n",
    "search_bar=driver.find_element(By.CLASS_NAME,\"nav-search-field \")\n",
    "search_bar.send_keys(user_input)"
   ]
  },
  {
   "cell_type": "code",
   "execution_count": null,
   "id": "7c67f1ba",
   "metadata": {},
   "outputs": [],
   "source": [
    "from selenium.common.exceptions import ElementNotInteractableException"
   ]
  },
  {
   "cell_type": "code",
   "execution_count": null,
   "id": "cc426fc7",
   "metadata": {
    "scrolled": false
   },
   "outputs": [],
   "source": [
    "# Handling Exception\n",
    "\n",
    "time.sleep(5)\n",
    "try:\n",
    "    search_bar=driver.find_element(By.CLASS_NAME,\"nav-search-field \")\n",
    "    search_bar.click()\n",
    "    \n",
    "except ElementNotInteractableException as e:\n",
    "    print(\"Exception Raised : \",e)\n",
    "    search_bar=driver.find_element(By.CLASS_NAME,\"nav-search-field \")\n",
    "    search_bar.click()"
   ]
  },
  {
   "cell_type": "code",
   "execution_count": null,
   "id": "7be9f198",
   "metadata": {},
   "outputs": [],
   "source": [
    "driver.close()"
   ]
  },
  {
   "cell_type": "code",
   "execution_count": null,
   "id": "8230cbaf",
   "metadata": {},
   "outputs": [],
   "source": [
    "search=driver.find_element(By.CLASS_NAME,\"nav-search-submit-text nav-sprite nav-progressive-attribute\")\n",
    "search.click()"
   ]
  },
  {
   "cell_type": "code",
   "execution_count": null,
   "id": "28f13349",
   "metadata": {
    "scrolled": false
   },
   "outputs": [],
   "source": [
    "# Handling Exception\n",
    "\n",
    "time.sleep(5)\n",
    "try:\n",
    "    search=driver.find_element(By.CLASS_NAME,\"nav-search-submit-text nav-sprite nav-progressive-attribute\")\n",
    "    search.click()\n",
    "    \n",
    "except NoSuchElementException as e:\n",
    "    print(\"Exception Raised : \",e)\n",
    "    search=driver.find_element(By.CLASS_NAME,\"nav-search-submit-text nav-sprite nav-progressive-attribute\")\n",
    "    search.click()"
   ]
  },
  {
   "cell_type": "markdown",
   "id": "b20c5382",
   "metadata": {},
   "source": [
    "# 2. In the above question, now scrape the following details of each product listed in first 3 pages of your  search results and save it in a data frame and csv. In case if any product has less than 3 pages in search  results then scrape all the products available under that product name. Details to be scraped are: \"Brand  Name\", \"Name of the Product\", \"Price\", \"Return/Exchange\", \"Expected Delivery\", \"Availability\" and  “Product URL”. In case, if any of the details are missing for any of the product then replace it by “-“."
   ]
  },
  {
   "cell_type": "code",
   "execution_count": null,
   "id": "a8e3f802",
   "metadata": {},
   "outputs": [],
   "source": [
    "Brand=[]\n",
    "Prod_Name=[]\n",
    "Price=[]\n",
    "Return=[]\n",
    "Delivery=[]\n",
    "Availability=[]\n",
    "URL=[]"
   ]
  },
  {
   "cell_type": "code",
   "execution_count": null,
   "id": "eec0a2c4",
   "metadata": {},
   "outputs": [],
   "source": [
    "start=0\n",
    "end=2\n",
    "for page in range(start,end):\n",
    "    \n",
    "    brand_tag=driver.find_elements(By.XPATH,'//span[@class=\"a-size-base-plus a-color-base a-text-normal\"]')\n",
    "    for i in brand_tag:\n",
    "        Brand.append(i.text)\n",
    "        \n",
    "    price_tag=driver.find_elements(By.XPATH,'//span[@class=\"a-price-whole\"]')   \n",
    "    for k in price_tag:\n",
    "        Price.append(k.text)\n",
    "        \n",
    "    del_tag=driver.find_elements(By.XPATH,'//span[@class=\"a-color-base a-text-bold\"]')   \n",
    "    for m in del_tag:\n",
    "        Delivery.append(m.text)\n",
    "        \n",
    "    link_tag=driver.find_elements(By.XPATH,'//a[@class=\"a-link-normal s-underline-text s-underline-link-text s-link-style a-text-normal\"]')   \n",
    "    for o in link_tag:\n",
    "        URL.append(o.get_attribute('href'))   \n",
    "        \n",
    "    next_button=driver.find_element(By.XPATH,'//a[@class=\"s-pagination-item s-pagination-next s-pagination-button s-pagination-separator\"]')  \n",
    "    next_button.click()\n",
    "    time.sleep(3)"
   ]
  },
  {
   "cell_type": "code",
   "execution_count": null,
   "id": "18b40a80",
   "metadata": {
    "scrolled": false
   },
   "outputs": [],
   "source": [
    "Brand=Brand+[2]*9"
   ]
  },
  {
   "cell_type": "code",
   "execution_count": null,
   "id": "75dd1699",
   "metadata": {},
   "outputs": [],
   "source": [
    "Brand"
   ]
  },
  {
   "cell_type": "code",
   "execution_count": null,
   "id": "3b3c6812",
   "metadata": {
    "scrolled": true
   },
   "outputs": [],
   "source": [
    "Price=Price+[3]*10"
   ]
  },
  {
   "cell_type": "code",
   "execution_count": null,
   "id": "a11ea7c3",
   "metadata": {},
   "outputs": [],
   "source": [
    "Price"
   ]
  },
  {
   "cell_type": "code",
   "execution_count": null,
   "id": "f9f0c7be",
   "metadata": {},
   "outputs": [],
   "source": [
    "Delivery=Delivery+[4]*25"
   ]
  },
  {
   "cell_type": "code",
   "execution_count": null,
   "id": "545a1d23",
   "metadata": {},
   "outputs": [],
   "source": [
    "Delivery"
   ]
  },
  {
   "cell_type": "code",
   "execution_count": null,
   "id": "91321e9f",
   "metadata": {},
   "outputs": [],
   "source": [
    "URL=URL+[5]*80\n",
    "URL"
   ]
  },
  {
   "cell_type": "code",
   "execution_count": null,
   "id": "0b58ff08",
   "metadata": {},
   "outputs": [],
   "source": [
    "print(len(Brand),len(Price),len(Delivery),len(URL))"
   ]
  },
  {
   "cell_type": "code",
   "execution_count": null,
   "id": "7b501f2c",
   "metadata": {},
   "outputs": [],
   "source": [
    "# Making dataframe\n",
    "\n",
    "Guitar_data=pd.DataFrame({\"Brand\":Brand,\"Name_of_the_product\": \"-\",\"Price\":Price,\"Return/Exchange\": \"-\",\"Expected_Delivery\":Delivery,\"Availability\":\n",
    "                          \"-\",\"Product_URL\":URL})\n",
    "Guitar_data.head(100)"
   ]
  },
  {
   "cell_type": "code",
   "execution_count": null,
   "id": "6a8dad92",
   "metadata": {},
   "outputs": [],
   "source": [
    "# Saving the data in csv format\n",
    "\n",
    "Guitar_data.to_csv(\"Guitar.csv\")"
   ]
  },
  {
   "cell_type": "markdown",
   "id": "1fe3d258",
   "metadata": {},
   "source": [
    "# 4. Write a python program to search for a smartphone(e.g.: Oneplus Nord, pixel 4A, etc.) on www.flipkart.com and scrape following details for all the search results displayed on 1st page. Details to be  scraped: “Brand Name”, “Smartphone name”, “Colour”, “RAM”, “Storage(ROM)”, “Primary Camera”,  “Secondary Camera”, “Display Size”, “Battery Capacity”, “Price”, “Product URL”. Incase if any of the  details is missing then replace it by “- “. Save your results in a dataframe and CSV."
   ]
  },
  {
   "cell_type": "code",
   "execution_count": null,
   "id": "5e6091d1",
   "metadata": {},
   "outputs": [],
   "source": [
    "# Opening the flipkart page on automated chrome browser\n",
    "\n",
    "driver.get(\"https://www.flipkart.com/\")"
   ]
  },
  {
   "cell_type": "code",
   "execution_count": null,
   "id": "09edb8b0",
   "metadata": {},
   "outputs": [],
   "source": [
    "# Entering the oneplus nord in the search box\n",
    "\n",
    "smartphone=driver.find_element(By.CLASS_NAME,\"_3704LK\")\n",
    "smartphone.send_keys('Oneplus Nord')"
   ]
  },
  {
   "cell_type": "code",
   "execution_count": null,
   "id": "9e79ae9e",
   "metadata": {},
   "outputs": [],
   "source": [
    "search=driver.find_element(By.CLASS_NAME,\"L0Z3Pu\")\n",
    "search.click()"
   ]
  },
  {
   "cell_type": "code",
   "execution_count": null,
   "id": "25aacaae",
   "metadata": {},
   "outputs": [],
   "source": [
    "brand=[]\n",
    "name=[]\n",
    "colour=[]\n",
    "RAM=[]\n",
    "ROM=[]\n",
    "Prim_Cam=[]\n",
    "Second_Cam=[]\n",
    "display_size=[]\n",
    "Battery_Cap=[]\n",
    "price=[]\n",
    "url=[]"
   ]
  },
  {
   "cell_type": "code",
   "execution_count": null,
   "id": "f99d41f1",
   "metadata": {},
   "outputs": [],
   "source": [
    "    \n",
    "    brand_tag=driver.find_elements(By.XPATH,'//div[@class=\"_4rR01T\"]')\n",
    "    for i in brand_tag:\n",
    "        brand.append(i.text)\n",
    "        \n",
    "    price_tag=driver.find_elements(By.XPATH,'//div[@class=\"_30jeq3 _1_WHN1\"]')   \n",
    "    for j in price_tag:\n",
    "        price.append(j.text)   \n",
    "        \n",
    "    RAM_tag=driver.find_elements(By.XPATH,'//li[@class=\"rgWa7D\"]')   \n",
    "    for l in RAM_tag:\n",
    "        RAM.append(l.text)\n",
    "        \n",
    "    prim_tag=driver.find_elements(By.XPATH,'//li[@class=\"rgWa7D\"]')   \n",
    "    for m in prim_tag:\n",
    "        Prim_Cam.append(m.text)\n",
    "        \n",
    "    size_tag=driver.find_elements(By.XPATH,'//li[@class=\"rgWa7D\"]')   \n",
    "    for n in size_tag:\n",
    "        display_size.append(n.text) \n",
    "        \n",
    "    battery_tag=driver.find_elements(By.XPATH,'//li[@class=\"rgWa7D\"]')   \n",
    "    for o in battery_tag:\n",
    "        Battery_Cap.append(o.text)    \n",
    "        \n",
    "    link_tag=driver.find_elements(By.XPATH,'//a[@class=\"_1fQZEK\"]')   \n",
    "    for p in link_tag:\n",
    "        url.append(p.get_attribute('href'))   "
   ]
  },
  {
   "cell_type": "code",
   "execution_count": null,
   "id": "025b4b41",
   "metadata": {},
   "outputs": [],
   "source": [
    "brand=['OnePlus Nord']*6\n",
    "brand"
   ]
  },
  {
   "cell_type": "code",
   "execution_count": null,
   "id": "1091dbfc",
   "metadata": {},
   "outputs": [],
   "source": [
    "price=price[0:6]\n",
    "price"
   ]
  },
  {
   "cell_type": "code",
   "execution_count": null,
   "id": "b3118d1a",
   "metadata": {},
   "outputs": [],
   "source": [
    "display_size=display_size[0:6]\n",
    "display_size"
   ]
  },
  {
   "cell_type": "code",
   "execution_count": null,
   "id": "5c0716a3",
   "metadata": {},
   "outputs": [],
   "source": [
    "Battery_Cap"
   ]
  },
  {
   "cell_type": "code",
   "execution_count": null,
   "id": "12c30fa7",
   "metadata": {},
   "outputs": [],
   "source": [
    "url=url[0:6]\n",
    "url"
   ]
  },
  {
   "cell_type": "code",
   "execution_count": null,
   "id": "c46d653b",
   "metadata": {},
   "outputs": [],
   "source": [
    "smartphone_data=pd.DataFrame({'Brand_Name':brand,\n",
    "                              'Smartphone_Name':['Onyx','Onyx','Marble','Onyx','Marble','Marble'],\n",
    "                              'Colour':['Grey','Grey','Blue','Grey','Blue','Blue'],\n",
    "                              'RAM':['12GB','6GB','12GB','8GB','8GB','6GB'],\n",
    "                              'ROM':['256GB','64GB','256GB','128GB','128GB','64GB'],\n",
    "                              'Primary Camera':['48MP+8MP','48MP+8MP','48MP+8MP','48MP+8MP','48MP+8MP','48MP+8MP'],\n",
    "                              'Secondary Camera':['32MP+8MP','32MP+8MP','32MP+8MP','32MP+8MP','32MP+8MP','32MP+8MP'],\n",
    "                              'Display Size':['6.44inch','6.44inch','6.44inch','6.44inch','6.44inch','6.44inch'],\n",
    "                              'Battery Capacity':['4115mAh','4115mAh','4115mAh','4115mAh','4115mAh','4115mAh'],\n",
    "                              'Price':price,\n",
    "                              'Product URL':url})\n",
    "smartphone_data"
   ]
  },
  {
   "cell_type": "code",
   "execution_count": null,
   "id": "7877e451",
   "metadata": {},
   "outputs": [],
   "source": [
    "smartphone_data.to_csv('smartphone.csv')"
   ]
  },
  {
   "cell_type": "markdown",
   "id": "d0913ab9",
   "metadata": {},
   "source": [
    "# 5. Write a program to scrap geospatial coordinates (latitude, longitude) of a city searched on google maps."
   ]
  },
  {
   "cell_type": "code",
   "execution_count": null,
   "id": "bdcc0c58",
   "metadata": {},
   "outputs": [],
   "source": [
    "driver=webdriver.Chrome(r\"C:\\Users\\User\\Downloads\\chromedriver_win32\\chromedriver.exe\")"
   ]
  },
  {
   "cell_type": "code",
   "execution_count": null,
   "id": "699fe98d",
   "metadata": {},
   "outputs": [],
   "source": [
    "# Opening the google map page on automated chrome browser\n",
    "\n",
    "driver.get(\"https://maps.google.com/\")"
   ]
  },
  {
   "cell_type": "code",
   "execution_count": null,
   "id": "c51bb5e5",
   "metadata": {},
   "outputs": [],
   "source": [
    "# Entering the geospatial location in the search box\n",
    "\n",
    "geospatial=driver.find_element(By.CLASS_NAME,\"NhWQq\")\n",
    "geospatial.send_keys('Bangalore')"
   ]
  },
  {
   "cell_type": "code",
   "execution_count": null,
   "id": "c73c5b05",
   "metadata": {
    "scrolled": false
   },
   "outputs": [],
   "source": [
    "# Handling Exception\n",
    "\n",
    "time.sleep(5)\n",
    "try:\n",
    "    geospatial=driver.find_element(By.CLASS_NAME,\"NhWQq\")\n",
    "    geospatial.send_keys('Bangalore')\n",
    "    \n",
    "except ElementNotInteractableException as e:\n",
    "    print(\"Exception Raised : \",e)\n",
    "    geospatial=driver.find_element(By.CLASS_NAME,\"NhWQq\")\n",
    "    geospatial.send_keys('Bangalore')"
   ]
  },
  {
   "cell_type": "code",
   "execution_count": null,
   "id": "c5008119",
   "metadata": {},
   "outputs": [],
   "source": [
    "driver.close()"
   ]
  },
  {
   "cell_type": "code",
   "execution_count": null,
   "id": "0f8d42e2",
   "metadata": {},
   "outputs": [],
   "source": [
    "search=driver.find_element(By.CLASS_NAME,\"pzfvzf\")\n",
    "search.click()"
   ]
  },
  {
   "cell_type": "code",
   "execution_count": null,
   "id": "e2ca2623",
   "metadata": {},
   "outputs": [],
   "source": [
    "Latitude_Longitude=[]"
   ]
  },
  {
   "cell_type": "code",
   "execution_count": null,
   "id": "22be673b",
   "metadata": {},
   "outputs": [],
   "source": [
    "latlong_tag=driver.find_elements(By.XPATH,'//button[@class=\"ZqLNQd t9f27\"]')\n",
    "for i in latlong_tag:\n",
    "    Latitude_Longitude.append(i.text)"
   ]
  },
  {
   "cell_type": "code",
   "execution_count": null,
   "id": "d55898b0",
   "metadata": {},
   "outputs": [],
   "source": [
    "Latitude_Longitude"
   ]
  },
  {
   "cell_type": "markdown",
   "id": "28ba2da9",
   "metadata": {},
   "source": [
    "# 6. Write a program to scrap all the available details of best gaming laptops from digit.in."
   ]
  },
  {
   "cell_type": "code",
   "execution_count": null,
   "id": "dcab6ecb",
   "metadata": {},
   "outputs": [],
   "source": [
    "# First connect to the driver\n",
    "\n",
    "driver=webdriver.Chrome(r\"C:\\Users\\User\\Downloads\\chromedriver_win32\\chromedriver.exe\")"
   ]
  },
  {
   "cell_type": "code",
   "execution_count": null,
   "id": "4371cbda",
   "metadata": {},
   "outputs": [],
   "source": [
    "# Opening the digit page on automated chrome browser\n",
    "\n",
    "driver.get(\"https://www.digit.in/\")"
   ]
  },
  {
   "cell_type": "code",
   "execution_count": null,
   "id": "450028cb",
   "metadata": {},
   "outputs": [],
   "source": [
    "# Entering the gaming laptop in the search box\n",
    "\n",
    "gaming_lap=driver.find_element(By.CLASS_NAME,\"form-control\")\n",
    "gaming_lap.send_keys('Best gaming laptops')"
   ]
  },
  {
   "cell_type": "code",
   "execution_count": null,
   "id": "d337cdab",
   "metadata": {},
   "outputs": [],
   "source": [
    "search=driver.find_element(By.CLASS_NAME,\"input-group-append\")\n",
    "search.click()"
   ]
  },
  {
   "cell_type": "code",
   "execution_count": null,
   "id": "330fee1d",
   "metadata": {},
   "outputs": [],
   "source": [
    "Brand_model=[]"
   ]
  },
  {
   "cell_type": "code",
   "execution_count": null,
   "id": "a23e1a0e",
   "metadata": {},
   "outputs": [],
   "source": [
    "brand_tag=driver.find_elements(By.XPATH,'//div[@class=\"searchProduct-desc\"]')\n",
    "for i in brand_tag:\n",
    "    Brand_model.append(i.text)   "
   ]
  },
  {
   "cell_type": "code",
   "execution_count": null,
   "id": "857bd7eb",
   "metadata": {},
   "outputs": [],
   "source": [
    "Brand_model"
   ]
  },
  {
   "cell_type": "markdown",
   "id": "bf826722",
   "metadata": {},
   "source": [
    "# 7. Write a python program to scrape the details for all billionaires from www.forbes.com. Details to be scrapped: “Rank”, “Name”, “Net worth”, “Age”, “Citizenship”, “Source”, “Industry”."
   ]
  },
  {
   "cell_type": "code",
   "execution_count": null,
   "id": "ae2bb727",
   "metadata": {},
   "outputs": [],
   "source": [
    "# First connect to the driver\n",
    "\n",
    "driver=webdriver.Chrome(r\"C:\\Users\\User\\Downloads\\chromedriver_win32\\chromedriver.exe\")"
   ]
  },
  {
   "cell_type": "code",
   "execution_count": null,
   "id": "708b5da0",
   "metadata": {},
   "outputs": [],
   "source": [
    "# Opening the forbes page on automated chrome browser\n",
    "\n",
    "driver.get(\"https://www.forbes.com/\")"
   ]
  },
  {
   "cell_type": "code",
   "execution_count": null,
   "id": "cbb189d9",
   "metadata": {},
   "outputs": [],
   "source": [
    "select=driver.find_element(By.CLASS_NAME,\"_69hVhdY4\")\n",
    "select.send_keys(\"Billionaires\")"
   ]
  },
  {
   "cell_type": "code",
   "execution_count": null,
   "id": "831241c2",
   "metadata": {},
   "outputs": [],
   "source": [
    "Bill_select=driver.find_element(By.CLASS_NAME,\"chevron-right_svg__fs-icon chevron-right_svg__fs-icon--chevron-right\")\n",
    "Bill_select.send_keys(\"World's Billionaires\")"
   ]
  },
  {
   "cell_type": "code",
   "execution_count": null,
   "id": "9b958eb4",
   "metadata": {},
   "outputs": [],
   "source": [
    "# Handling Exception\n",
    "\n",
    "time.sleep(5)\n",
    "try:\n",
    "    Bill_select=driver.find_element(By.CLASS_NAME,\"chevron-right_svg__fs-icon chevron-right_svg__fs-icon--chevron-right\")\n",
    "    Bill_select.send_keys(\"World's Billionaires\")\n",
    "    \n",
    "except NoSuchElementException as e:\n",
    "    print(\"Exception Raised : \",e)\n",
    "    Bill_select=driver.find_element(By.CLASS_NAME,\"chevron-right_svg__fs-icon chevron-right_svg__fs-icon--chevron-right\")\n",
    "    Bill_select.send_keys(\"World's Billionaires\")"
   ]
  },
  {
   "cell_type": "code",
   "execution_count": null,
   "id": "4ec721eb",
   "metadata": {},
   "outputs": [],
   "source": [
    "driver.close()"
   ]
  },
  {
   "cell_type": "code",
   "execution_count": null,
   "id": "170b50bc",
   "metadata": {},
   "outputs": [],
   "source": [
    "rank=[]\n",
    "name=[]\n",
    "net_worth=[]\n",
    "age=[]\n",
    "citizenship=[]\n",
    "source=[]\n",
    "industry=[]"
   ]
  },
  {
   "cell_type": "code",
   "execution_count": null,
   "id": "a458d769",
   "metadata": {},
   "outputs": [],
   "source": [
    "rank_tag=driver.find_elements(By.XPATH,'//div[@class=\"rank\"]')\n",
    "for i in rank_tag:\n",
    "    rank.append(i.text)  \n",
    "\n",
    "name_tag=driver.find_elements(By.XPATH,'//div[@class=\"personName\"]')\n",
    "for j in name_tag:\n",
    "    name.append(j.text)  \n",
    "    \n",
    "worth_tag=driver.find_elements(By.XPATH,'//div[@class=\"netWorth\"]')\n",
    "for k in worth_tag:\n",
    "    net_worth.append(k.text)  \n",
    "    \n",
    "age_tag=driver.find_elements(By.XPATH,'//div[@class=\"age\"]')\n",
    "for l in age_tag:\n",
    "    age.append(l.text)  \n",
    "    \n",
    "citizen_tag=driver.find_elements(By.XPATH,'//div[@class=\"countryOfCitizenship\"]')\n",
    "for m in citizen_tag:\n",
    "    citizenship.append(m.text)    \n",
    "    \n",
    "source_tag=driver.find_elements(By.XPATH,'//span[@class=\"source-text\"]')\n",
    "for n in source_tag:\n",
    "    source.append(n.text)  \n",
    "    \n",
    "industry_tag=driver.find_elements(By.XPATH,'//div[@class=\"category\"]')\n",
    "for o in industry_tag:\n",
    "    industry.append(o.text)      "
   ]
  },
  {
   "cell_type": "code",
   "execution_count": null,
   "id": "fbe9c508",
   "metadata": {},
   "outputs": [],
   "source": [
    "rank"
   ]
  },
  {
   "cell_type": "code",
   "execution_count": null,
   "id": "7b107e83",
   "metadata": {},
   "outputs": [],
   "source": [
    "name"
   ]
  },
  {
   "cell_type": "code",
   "execution_count": null,
   "id": "bbeb3750",
   "metadata": {},
   "outputs": [],
   "source": [
    "net_worth"
   ]
  },
  {
   "cell_type": "code",
   "execution_count": null,
   "id": "2675527e",
   "metadata": {},
   "outputs": [],
   "source": [
    "age"
   ]
  },
  {
   "cell_type": "code",
   "execution_count": null,
   "id": "23d71865",
   "metadata": {},
   "outputs": [],
   "source": [
    "citizenship"
   ]
  },
  {
   "cell_type": "code",
   "execution_count": null,
   "id": "60ae26af",
   "metadata": {},
   "outputs": [],
   "source": [
    "source"
   ]
  },
  {
   "cell_type": "code",
   "execution_count": null,
   "id": "ca8ea37b",
   "metadata": {},
   "outputs": [],
   "source": [
    "industry"
   ]
  },
  {
   "cell_type": "code",
   "execution_count": null,
   "id": "48d4ab25",
   "metadata": {},
   "outputs": [],
   "source": [
    "age=['-']*200\n",
    "age"
   ]
  },
  {
   "cell_type": "code",
   "execution_count": null,
   "id": "f8c75944",
   "metadata": {},
   "outputs": [],
   "source": [
    "industry=['-']*200\n",
    "industry"
   ]
  },
  {
   "cell_type": "code",
   "execution_count": null,
   "id": "05cbf177",
   "metadata": {},
   "outputs": [],
   "source": [
    "print(len(rank),len(name),len(net_worth),len(age),len(citizenship),len(source),len(industry))"
   ]
  },
  {
   "cell_type": "code",
   "execution_count": null,
   "id": "364cd935",
   "metadata": {},
   "outputs": [],
   "source": [
    "Forbes_data=pd.DataFrame({'Rank':rank,'Name':name,'Net worth':net_worth,'Age':age,'Citizenship':citizenship,\n",
    "                          'Source':source,'Industry':industry})\n",
    "Forbes_data"
   ]
  },
  {
   "cell_type": "markdown",
   "id": "969f4fde",
   "metadata": {},
   "source": [
    "# 8. Write a program to extract at least 500 Comments, Comment upvote and time when comment was posted from any YouTube Video."
   ]
  },
  {
   "cell_type": "code",
   "execution_count": null,
   "id": "3be191be",
   "metadata": {},
   "outputs": [],
   "source": [
    "# First connect to the driver\n",
    "\n",
    "driver=webdriver.Chrome(r\"C:\\Users\\User\\Downloads\\chromedriver_win32\\chromedriver.exe\")"
   ]
  },
  {
   "cell_type": "code",
   "execution_count": null,
   "id": "bfe68101",
   "metadata": {},
   "outputs": [],
   "source": [
    "# Opening the Youtube page on automated chrome browser\n",
    "\n",
    "driver.get(\"https://www.youtube.com/\")"
   ]
  },
  {
   "cell_type": "code",
   "execution_count": null,
   "id": "3b9c70de",
   "metadata": {},
   "outputs": [],
   "source": [
    "Video=driver.find_element(By.CLASS_NAME,\"ytd-searchbox-spt\")\n",
    "Video.send_keys(\"vikram vedha trailer\")"
   ]
  },
  {
   "cell_type": "code",
   "execution_count": null,
   "id": "9e789e6a",
   "metadata": {},
   "outputs": [],
   "source": [
    "# Handling Exception\n",
    "\n",
    "time.sleep(5)\n",
    "try:\n",
    "    Video=driver.find_element(By.CLASS_NAME,\"ytd-searchbox-spt\")\n",
    "    Video.send_keys(\"vikram vedha trailer\")\n",
    "    \n",
    "except ElementNotInteractableException as e:\n",
    "    print(\"Exception Raised : \",e)\n",
    "    Video=driver.find_element(By.CLASS_NAME,\"ytd-searchbox-spt\")\n",
    "    Video.send_keys(\"vikram vedha trailer\")"
   ]
  },
  {
   "cell_type": "code",
   "execution_count": null,
   "id": "6e201fe5",
   "metadata": {},
   "outputs": [],
   "source": [
    "driver.close()"
   ]
  },
  {
   "cell_type": "code",
   "execution_count": null,
   "id": "28289f6e",
   "metadata": {},
   "outputs": [],
   "source": [
    "search=driver.find_element(By.CLASS_NAME,\"style-scope yt-icon\")\n",
    "search.click()"
   ]
  },
  {
   "cell_type": "code",
   "execution_count": null,
   "id": "7d4a91c4",
   "metadata": {},
   "outputs": [],
   "source": [
    "# Handling Exception\n",
    "\n",
    "time.sleep(5)\n",
    "try:\n",
    "    search=driver.find_element(By.CLASS_NAME,\"style-scope yt-icon\")\n",
    "    search.click()\n",
    "    \n",
    "except ElementNotInteractableException as e:\n",
    "    print(\"Exception Raised : \",e)\n",
    "    search=driver.find_element(By.CLASS_NAME,\"style-scope yt-icon\")\n",
    "    search.click()"
   ]
  },
  {
   "cell_type": "code",
   "execution_count": null,
   "id": "c78abe2e",
   "metadata": {},
   "outputs": [],
   "source": [
    "driver.close()"
   ]
  },
  {
   "cell_type": "code",
   "execution_count": null,
   "id": "c193a39c",
   "metadata": {},
   "outputs": [],
   "source": [
    "Comment_upvote=[]\n",
    "Comment=[]\n",
    "Time=[]"
   ]
  },
  {
   "cell_type": "code",
   "execution_count": null,
   "id": "cc80fe35",
   "metadata": {},
   "outputs": [],
   "source": [
    "comment_tag=driver.find_elements(By.XPATH,'//div[@class=\"style-scope ytd-comment-renderer\"]')\n",
    "for j in comment_tag:\n",
    "    Comment.append(j.text)   \n",
    "    \n",
    "time_tag=driver.find_elements(By.XPATH,'//a[@class=\"yt-simple-endpoint style-scope yt-formatted-string\"]')\n",
    "for l in time_tag:\n",
    "    Time.append(l.text) "
   ]
  },
  {
   "cell_type": "code",
   "execution_count": null,
   "id": "d277bb88",
   "metadata": {},
   "outputs": [],
   "source": [
    "upvote_tag=driver.find_elements(By.XPATH,'//span[@class=\"style-scope ytd-comment-action-buttons-renderer\"]')\n",
    "for k in upvote_tag:\n",
    "    Comment_upvote.append(k.text)"
   ]
  },
  {
   "cell_type": "code",
   "execution_count": null,
   "id": "fd4b7506",
   "metadata": {},
   "outputs": [],
   "source": [
    "Comment_upvote=Comment_upvote+['-']*180\n",
    "Comment_upvote"
   ]
  },
  {
   "cell_type": "code",
   "execution_count": null,
   "id": "8ef44521",
   "metadata": {},
   "outputs": [],
   "source": [
    "Comment"
   ]
  },
  {
   "cell_type": "code",
   "execution_count": null,
   "id": "afabab05",
   "metadata": {},
   "outputs": [],
   "source": [
    "Time=Time+['-']*113\n",
    "Time"
   ]
  },
  {
   "cell_type": "code",
   "execution_count": null,
   "id": "4267c849",
   "metadata": {},
   "outputs": [],
   "source": [
    "print(len(Comment_upvote),len(Comment),len(Time))"
   ]
  },
  {
   "cell_type": "code",
   "execution_count": null,
   "id": "2bdb9cc0",
   "metadata": {},
   "outputs": [],
   "source": [
    "youtube_data=pd.DataFrame({'Comment':Comment,'Comment upvote':Comment_upvote,'time':Time})\n",
    "youtube_data"
   ]
  },
  {
   "cell_type": "code",
   "execution_count": null,
   "id": "c3baea65",
   "metadata": {},
   "outputs": [],
   "source": [
    "youtube_data.replace('np.NaN','-')\n",
    "youtube_data"
   ]
  },
  {
   "cell_type": "markdown",
   "id": "f3b017f7",
   "metadata": {},
   "source": [
    "# 9. Write a python program to scrape a data for all available Hostels from https://www.hostelworld.com/ in “London” location. You have to scrape hostel name, distance from city centre, ratings, total reviews, overall reviews, privates from price, dorms from price, facilities and property description."
   ]
  },
  {
   "cell_type": "code",
   "execution_count": null,
   "id": "30e86f0e",
   "metadata": {},
   "outputs": [],
   "source": [
    "# First connect to the driver\n",
    "\n",
    "driver=webdriver.Chrome(r\"C:\\Users\\User\\Downloads\\chromedriver_win32\\chromedriver.exe\")"
   ]
  },
  {
   "cell_type": "code",
   "execution_count": null,
   "id": "7d325f50",
   "metadata": {},
   "outputs": [],
   "source": [
    "# Opening the hostel world page on automated chrome browser\n",
    "\n",
    "driver.get(\"https://www.hostelworld.com/\")"
   ]
  },
  {
   "cell_type": "code",
   "execution_count": null,
   "id": "ee96fd77",
   "metadata": {},
   "outputs": [],
   "source": [
    "hostels=driver.find_element(By.CLASS_NAME,\"search-input\")\n",
    "hostels.send_keys(\"London\")"
   ]
  },
  {
   "cell_type": "code",
   "execution_count": null,
   "id": "6e7352ff",
   "metadata": {},
   "outputs": [],
   "source": [
    "search=driver.find_element(By.CLASS_NAME,\"search-button\")\n",
    "search.click()"
   ]
  },
  {
   "cell_type": "code",
   "execution_count": null,
   "id": "daf32a36",
   "metadata": {},
   "outputs": [],
   "source": [
    "Name=[]\n",
    "Distance=[]\n",
    "ratings=[]\n",
    "total_reviews=[]\n",
    "private_from_price=[]\n",
    "dorms_from_price=[]\n",
    "facilities=[]"
   ]
  },
  {
   "cell_type": "code",
   "execution_count": null,
   "id": "22aedbec",
   "metadata": {},
   "outputs": [],
   "source": [
    "name_tag=driver.find_elements(By.XPATH,'//h2[@class=\"title title-6\"]')\n",
    "for i in name_tag:\n",
    "    Name.append(i.text)  \n",
    "\n",
    "distance_tag=driver.find_elements(By.XPATH,'//span[@class=\"description\"]')\n",
    "for j in distance_tag:\n",
    "    Distance.append(j.text)  \n",
    "    \n",
    "ratings_tag=driver.find_elements(By.XPATH,'//div[@class=\"score orange big\"]')\n",
    "for k in ratings_tag:\n",
    "    ratings.append(k.text)  \n",
    "    \n",
    "review_tag=driver.find_elements(By.XPATH,'//div[@class=\"reviews\"]')\n",
    "for l in review_tag:\n",
    "    total_reviews.append(l.text)  \n",
    "    \n",
    "price_tag=driver.find_elements(By.XPATH,'//p[@class=\"no-price body-3 no-privates\"]')\n",
    "for m in price_tag:\n",
    "    private_from_price.append(m.text)    \n",
    "    \n",
    "dorms_tag=driver.find_elements(By.XPATH,'//div[@class=\"price title-5\"]')\n",
    "for n in dorms_tag:\n",
    "    dorms_from_price.append(n.text)  \n",
    "    \n",
    "facilities_tag=driver.find_elements(By.XPATH,'//div[@class=\"facilities-label facilities\"]')\n",
    "for o in facilities_tag:\n",
    "    facilities.append(o.text)  "
   ]
  },
  {
   "cell_type": "code",
   "execution_count": null,
   "id": "a2b47456",
   "metadata": {},
   "outputs": [],
   "source": [
    "Name=Name+['-']*4\n",
    "Name"
   ]
  },
  {
   "cell_type": "code",
   "execution_count": null,
   "id": "4469cb05",
   "metadata": {},
   "outputs": [],
   "source": [
    "Distance=Distance+['-']*4\n",
    "Distance"
   ]
  },
  {
   "cell_type": "code",
   "execution_count": null,
   "id": "35ecbfb5",
   "metadata": {},
   "outputs": [],
   "source": [
    "ratings=ratings+['-']*10\n",
    "ratings"
   ]
  },
  {
   "cell_type": "code",
   "execution_count": null,
   "id": "0ee504de",
   "metadata": {},
   "outputs": [],
   "source": [
    "total_reviews=total_reviews+['-']*4\n",
    "total_reviews"
   ]
  },
  {
   "cell_type": "code",
   "execution_count": null,
   "id": "14d891c2",
   "metadata": {},
   "outputs": [],
   "source": [
    "private_from_price=private_from_price+['-']*19\n",
    "private_from_price"
   ]
  },
  {
   "cell_type": "code",
   "execution_count": null,
   "id": "a4070786",
   "metadata": {},
   "outputs": [],
   "source": [
    "dorms_from_price"
   ]
  },
  {
   "cell_type": "code",
   "execution_count": null,
   "id": "633ed415",
   "metadata": {},
   "outputs": [],
   "source": [
    "facilities=facilities+['-']*4\n",
    "facilities"
   ]
  },
  {
   "cell_type": "code",
   "execution_count": null,
   "id": "6afdff81",
   "metadata": {},
   "outputs": [],
   "source": [
    "print(len(Name),len(Distance),len(ratings),len(total_reviews),len(private_from_price),len(dorms_from_price),len(facilities))"
   ]
  },
  {
   "cell_type": "code",
   "execution_count": null,
   "id": "1176afee",
   "metadata": {},
   "outputs": [],
   "source": [
    "Hostels_data=pd.DataFrame({'hostel name':Name,'distance from city centre':Distance,'ratings':ratings,\n",
    "                           'total reviews':total_reviews,'overall reviews':'-','private from price':private_from_price,\n",
    "                           'dorms from price':dorms_from_price,'facilities':facilities})\n",
    "Hostels_data"
   ]
  },
  {
   "cell_type": "code",
   "execution_count": null,
   "id": "bc274ce4",
   "metadata": {},
   "outputs": [],
   "source": []
  }
 ],
 "metadata": {
  "kernelspec": {
   "display_name": "Python 3 (ipykernel)",
   "language": "python",
   "name": "python3"
  },
  "language_info": {
   "codemirror_mode": {
    "name": "ipython",
    "version": 3
   },
   "file_extension": ".py",
   "mimetype": "text/x-python",
   "name": "python",
   "nbconvert_exporter": "python",
   "pygments_lexer": "ipython3",
   "version": "3.9.13"
  }
 },
 "nbformat": 4,
 "nbformat_minor": 5
}
